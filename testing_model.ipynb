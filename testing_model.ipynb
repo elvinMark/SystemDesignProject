{
 "cells": [
  {
   "cell_type": "code",
   "execution_count": 58,
   "metadata": {},
   "outputs": [],
   "source": [
    "import pandas as pd\n",
    "import numpy as np\n",
    "from sklearn.model_selection import train_test_split\n",
    "from sklearn.naive_bayes import GaussianNB\n",
    "from sklearn.multiclass import OneVsRestClassifier\n",
    "from sklearn.preprocessing import MultiLabelBinarizer"
   ]
  },
  {
   "cell_type": "code",
   "execution_count": 4,
   "metadata": {},
   "outputs": [
    {
     "data": {
      "text/html": [
       "<div>\n",
       "<style scoped>\n",
       "    .dataframe tbody tr th:only-of-type {\n",
       "        vertical-align: middle;\n",
       "    }\n",
       "\n",
       "    .dataframe tbody tr th {\n",
       "        vertical-align: top;\n",
       "    }\n",
       "\n",
       "    .dataframe thead th {\n",
       "        text-align: right;\n",
       "    }\n",
       "</style>\n",
       "<table border=\"1\" class=\"dataframe\">\n",
       "  <thead>\n",
       "    <tr style=\"text-align: right;\">\n",
       "      <th></th>\n",
       "      <th>title</th>\n",
       "      <th>content</th>\n",
       "      <th>tags</th>\n",
       "      <th>doc_vec</th>\n",
       "      <th>labels</th>\n",
       "    </tr>\n",
       "  </thead>\n",
       "  <tbody>\n",
       "    <tr>\n",
       "      <th>0</th>\n",
       "      <td>№211 みずにながす、がおー。</td>\n",
       "      <td>今日は午前中だけ仕事して、午後医者に行き、夕方はホームレスのお友達からお寿司をおごってもらっ...</td>\n",
       "      <td>['#毎日更新']</td>\n",
       "      <td>[-0.6413622315797844, -0.02762089093218069, -0...</td>\n",
       "      <td>[9]</td>\n",
       "    </tr>\n",
       "    <tr>\n",
       "      <th>1</th>\n",
       "      <td>見送り</td>\n",
       "      <td>父も、母も、もう他界してしばらくが経つ。私も、もう、いい歳で。父も母も、生きていればそれなり...</td>\n",
       "      <td>['#日記', '#エッセイ', '#母', '#父', '#ほぼ毎日note', '#やさ...</td>\n",
       "      <td>[-0.21704280540967982, 0.06023082480144997, -0...</td>\n",
       "      <td>[0, 1, 565, 1068, 1146, 1382]</td>\n",
       "    </tr>\n",
       "    <tr>\n",
       "      <th>2</th>\n",
       "      <td>Eテレ『趣味どきっ！』が面白い</td>\n",
       "      <td>最近、たまたま観たのですが『趣味どきっ！』の“スゴ楽” 家事への道シリーズが良かったんです...</td>\n",
       "      <td>['#毎日note', '#習慣', '#テレビ', '#掃除']</td>\n",
       "      <td>[-0.6624432352820425, -0.054146641178606014, -...</td>\n",
       "      <td>[3, 160, 478, 779]</td>\n",
       "    </tr>\n",
       "    <tr>\n",
       "      <th>3</th>\n",
       "      <td>新しい服はしばらく買わないと決めてみて</td>\n",
       "      <td>新しい服を買わないようにしようと決めて3年ほどたった。3年前ぐらいに、断捨離とか、家の整理と...</td>\n",
       "      <td>['#断捨離']</td>\n",
       "      <td>[-0.6314828735735987, -0.09158760018281703, -0...</td>\n",
       "      <td>[421]</td>\n",
       "    </tr>\n",
       "    <tr>\n",
       "      <th>4</th>\n",
       "      <td>蓮の花言葉</td>\n",
       "      <td>父方の祖父母の家には、伯父と伯母と従兄弟が一緒に暮らしていて、台所には冷蔵庫と茶箪笥が2台ず...</td>\n",
       "      <td>['#介護', '#母', '#認知症', '#父', '#引っ越し']</td>\n",
       "      <td>[-0.522198764722776, -0.01959150434377851, -0....</td>\n",
       "      <td>[199, 565, 890, 1068, 1302]</td>\n",
       "    </tr>\n",
       "    <tr>\n",
       "      <th>...</th>\n",
       "      <td>...</td>\n",
       "      <td>...</td>\n",
       "      <td>...</td>\n",
       "      <td>...</td>\n",
       "      <td>...</td>\n",
       "    </tr>\n",
       "    <tr>\n",
       "      <th>2343</th>\n",
       "      <td>レッツダンス❗️</td>\n",
       "      <td>今回、ナゴコンの皆さんと、沢山の方々に助けて頂いて、出来上がって来ました。”緑文化小劇場＆ナ...</td>\n",
       "      <td>['#ピアノ', '#映像']</td>\n",
       "      <td>[-0.8237114698033441, -0.12204698043113404, -0...</td>\n",
       "      <td>[169, 1051]</td>\n",
       "    </tr>\n",
       "    <tr>\n",
       "      <th>2344</th>\n",
       "      <td>Creepy Nutsの武道館ライブを、配信で見たよ♪</td>\n",
       "      <td>12日夜、Creepy　Nuts（クリーピーナッツ）という、ヒップホップのグループの武道...</td>\n",
       "      <td>['#音楽', '#ライブ配信']</td>\n",
       "      <td>[-0.48791739515120713, -0.38404660005594643, -...</td>\n",
       "      <td>[8, 708]</td>\n",
       "    </tr>\n",
       "    <tr>\n",
       "      <th>2345</th>\n",
       "      <td>珍しいチューナーを見つけた</td>\n",
       "      <td>ども、キャンピングミュージシャンの山木将平です。　最近ギターのチューナーを無くしてしまいどー...</td>\n",
       "      <td>['#ギター', '#ミュージシャン']</td>\n",
       "      <td>[-0.9868878505362549, -0.032979069012369897, -...</td>\n",
       "      <td>[148, 1399]</td>\n",
       "    </tr>\n",
       "    <tr>\n",
       "      <th>2346</th>\n",
       "      <td>パピコクレさんに捧ぐアリア（歌：Paprikachordさん）</td>\n",
       "      <td>「パピコクレさんに捧ぐアリア」をPaprikachordさんに歌っていただきました。「パピコ...</td>\n",
       "      <td>['#音楽', '#DTM', '#オリジナル曲']</td>\n",
       "      <td>[-0.9321060173370889, -0.046223862741706555, -...</td>\n",
       "      <td>[8, 103, 488]</td>\n",
       "    </tr>\n",
       "    <tr>\n",
       "      <th>2347</th>\n",
       "      <td>今をときめく現代アーティストとは？【自己紹介続き】</td>\n",
       "      <td>こんばんは。なぜ、こんばんは、って？それはこの記事を読めばわかるかもしれないです。さて、今回...</td>\n",
       "      <td>['#自己紹介']</td>\n",
       "      <td>[-0.5622327147551426, -0.12416846316262353, -0...</td>\n",
       "      <td>[27]</td>\n",
       "    </tr>\n",
       "  </tbody>\n",
       "</table>\n",
       "<p>2348 rows × 5 columns</p>\n",
       "</div>"
      ],
      "text/plain": [
       "                                title  \\\n",
       "0                    №211 みずにながす、がおー。   \n",
       "1                                 見送り   \n",
       "2                     Eテレ『趣味どきっ！』が面白い   \n",
       "3                 新しい服はしばらく買わないと決めてみて   \n",
       "4                               蓮の花言葉   \n",
       "...                               ...   \n",
       "2343                         レッツダンス❗️   \n",
       "2344      Creepy Nutsの武道館ライブを、配信で見たよ♪   \n",
       "2345                    珍しいチューナーを見つけた   \n",
       "2346  パピコクレさんに捧ぐアリア（歌：Paprikachordさん）   \n",
       "2347        今をときめく現代アーティストとは？【自己紹介続き】   \n",
       "\n",
       "                                                content  \\\n",
       "0     今日は午前中だけ仕事して、午後医者に行き、夕方はホームレスのお友達からお寿司をおごってもらっ...   \n",
       "1     父も、母も、もう他界してしばらくが経つ。私も、もう、いい歳で。父も母も、生きていればそれなり...   \n",
       "2     　最近、たまたま観たのですが『趣味どきっ！』の“スゴ楽” 家事への道シリーズが良かったんです...   \n",
       "3     新しい服を買わないようにしようと決めて3年ほどたった。3年前ぐらいに、断捨離とか、家の整理と...   \n",
       "4     父方の祖父母の家には、伯父と伯母と従兄弟が一緒に暮らしていて、台所には冷蔵庫と茶箪笥が2台ず...   \n",
       "...                                                 ...   \n",
       "2343  今回、ナゴコンの皆さんと、沢山の方々に助けて頂いて、出来上がって来ました。”緑文化小劇場＆ナ...   \n",
       "2344  　　12日夜、Creepy　Nuts（クリーピーナッツ）という、ヒップホップのグループの武道...   \n",
       "2345  ども、キャンピングミュージシャンの山木将平です。　最近ギターのチューナーを無くしてしまいどー...   \n",
       "2346  「パピコクレさんに捧ぐアリア」をPaprikachordさんに歌っていただきました。「パピコ...   \n",
       "2347  こんばんは。なぜ、こんばんは、って？それはこの記事を読めばわかるかもしれないです。さて、今回...   \n",
       "\n",
       "                                                   tags  \\\n",
       "0                                             ['#毎日更新']   \n",
       "1     ['#日記', '#エッセイ', '#母', '#父', '#ほぼ毎日note', '#やさ...   \n",
       "2                     ['#毎日note', '#習慣', '#テレビ', '#掃除']   \n",
       "3                                              ['#断捨離']   \n",
       "4                  ['#介護', '#母', '#認知症', '#父', '#引っ越し']   \n",
       "...                                                 ...   \n",
       "2343                                    ['#ピアノ', '#映像']   \n",
       "2344                                  ['#音楽', '#ライブ配信']   \n",
       "2345                               ['#ギター', '#ミュージシャン']   \n",
       "2346                         ['#音楽', '#DTM', '#オリジナル曲']   \n",
       "2347                                          ['#自己紹介']   \n",
       "\n",
       "                                                doc_vec  \\\n",
       "0     [-0.6413622315797844, -0.02762089093218069, -0...   \n",
       "1     [-0.21704280540967982, 0.06023082480144997, -0...   \n",
       "2     [-0.6624432352820425, -0.054146641178606014, -...   \n",
       "3     [-0.6314828735735987, -0.09158760018281703, -0...   \n",
       "4     [-0.522198764722776, -0.01959150434377851, -0....   \n",
       "...                                                 ...   \n",
       "2343  [-0.8237114698033441, -0.12204698043113404, -0...   \n",
       "2344  [-0.48791739515120713, -0.38404660005594643, -...   \n",
       "2345  [-0.9868878505362549, -0.032979069012369897, -...   \n",
       "2346  [-0.9321060173370889, -0.046223862741706555, -...   \n",
       "2347  [-0.5622327147551426, -0.12416846316262353, -0...   \n",
       "\n",
       "                             labels  \n",
       "0                               [9]  \n",
       "1     [0, 1, 565, 1068, 1146, 1382]  \n",
       "2                [3, 160, 478, 779]  \n",
       "3                             [421]  \n",
       "4       [199, 565, 890, 1068, 1302]  \n",
       "...                             ...  \n",
       "2343                    [169, 1051]  \n",
       "2344                       [8, 708]  \n",
       "2345                    [148, 1399]  \n",
       "2346                  [8, 103, 488]  \n",
       "2347                           [27]  \n",
       "\n",
       "[2348 rows x 5 columns]"
      ]
     },
     "execution_count": 4,
     "metadata": {},
     "output_type": "execute_result"
    }
   ],
   "source": [
    "# Load sample data (which includes the numerical labels)\n",
    "df = pd.read_csv(\"./data/sample_doc_vec_labels.csv\")\n",
    "df"
   ]
  },
  {
   "cell_type": "code",
   "execution_count": 6,
   "metadata": {},
   "outputs": [
    {
     "name": "stdout",
     "output_type": "stream",
     "text": [
      "[[-0.64136223 -0.02762089 -0.31077059 ... -0.29829604 -0.53742901\n",
      "   0.18948011]\n",
      " [-0.21704281  0.06023082 -0.55525767 ... -0.31878226 -0.48156569\n",
      "  -0.25063461]\n",
      " [-0.66244324 -0.05414664 -0.38273322 ... -0.5921418  -0.41440249\n",
      "   0.13317313]\n",
      " ...\n",
      " [-0.98688785 -0.03297907 -0.57405516 ... -0.70934571 -0.44303308\n",
      "  -0.01264584]\n",
      " [-0.93210602 -0.04622386 -0.6457347  ... -0.4526942  -0.18084227\n",
      "   0.18225742]\n",
      " [-0.56223271 -0.12416846 -0.67268819 ... -0.5615323  -0.30514376\n",
      "   0.01940162]]\n",
      "[[0 0 0 ... 0 0 0]\n",
      " [1 1 0 ... 0 0 0]\n",
      " [0 0 0 ... 0 0 0]\n",
      " ...\n",
      " [0 0 0 ... 0 0 0]\n",
      " [0 0 0 ... 0 0 0]\n",
      " [0 0 0 ... 0 0 0]]\n"
     ]
    },
    {
     "name": "stderr",
     "output_type": "stream",
     "text": [
      "<ipython-input-6-85081fb70f71>:2: VisibleDeprecationWarning: Creating an ndarray from ragged nested sequences (which is a list-or-tuple of lists-or-tuples-or ndarrays with different lengths or shapes) is deprecated. If you meant to do this, you must specify 'dtype=object' when creating the ndarray\n",
      "  Y = MultiLabelBinarizer().fit_transform(np.array([eval(elem) for elem in df[\"labels\"]]))\n"
     ]
    }
   ],
   "source": [
    "# Getting and formatting the inputs (doc_vec) and outputs (multilabel) from dataframe \n",
    "X = np.array([np.array(eval(elem)) for elem in df[\"doc_vec\"]])\n",
    "Y = np.array([eval(elem) for elem in df[\"labels\"]])\n",
    "Y = MultiLabelBinarizer().fit_transform(Y)\n",
    "print(X)\n",
    "print(Y)"
   ]
  },
  {
   "cell_type": "code",
   "execution_count": 13,
   "metadata": {},
   "outputs": [
    {
     "name": "stdout",
     "output_type": "stream",
     "text": [
      "(2348, 200) (2348, 1279)\n"
     ]
    }
   ],
   "source": [
    "print(X.shape,Y.shape)"
   ]
  },
  {
   "cell_type": "code",
   "execution_count": 14,
   "metadata": {},
   "outputs": [],
   "source": [
    "# Separating the train and test data\n",
    "# It is commentend for now since the data size is small\n",
    "# x_train, x_test,y_train, y_test = train_test_split(X,Y)"
   ]
  },
  {
   "cell_type": "code",
   "execution_count": 15,
   "metadata": {
    "scrolled": true
   },
   "outputs": [
    {
     "data": {
      "text/plain": [
       "OneVsRestClassifier(estimator=GaussianNB())"
      ]
     },
     "execution_count": 15,
     "metadata": {},
     "output_type": "execute_result"
    }
   ],
   "source": [
    "# Defining our model (in this case I am using a Gaussian Naive Bayes Classifier) \n",
    "# and updating it for multilabeling\n",
    "model = OneVsRestClassifier(GaussianNB())\n",
    "# Fitting the model with data\n",
    "model.fit(X,Y)"
   ]
  },
  {
   "cell_type": "code",
   "execution_count": 16,
   "metadata": {},
   "outputs": [],
   "source": [
    "# Testing the model\n",
    "y_pred = model.predict(x_test)\n",
    "y_pred_proba = model.predict_proba(x_test)"
   ]
  },
  {
   "cell_type": "code",
   "execution_count": 31,
   "metadata": {},
   "outputs": [
    {
     "name": "stdout",
     "output_type": "stream",
     "text": [
      "[[0 0 1 ... 0 0 0]\n",
      " [0 0 0 ... 0 0 0]\n",
      " [0 0 0 ... 0 0 0]\n",
      " ...\n",
      " [0 0 0 ... 0 0 0]\n",
      " [1 1 0 ... 0 0 0]\n",
      " [1 1 0 ... 0 0 0]]\n",
      "[[0 0 0 ... 0 0 0]\n",
      " [0 0 0 ... 0 0 0]\n",
      " [0 0 0 ... 0 0 0]\n",
      " ...\n",
      " [0 0 0 ... 0 0 0]\n",
      " [1 1 0 ... 0 0 0]\n",
      " [1 1 0 ... 0 0 0]]\n",
      "(array([ 215,  404, 1144]),)\n",
      "[ 65 215  31 404  10]\n"
     ]
    }
   ],
   "source": [
    "print(y_pred)\n",
    "print(y_test)\n",
    "idx = 1\n",
    "N = 5\n",
    "a = np.where(y_test[idx] == 1)\n",
    "print(a)\n",
    "print(y_pred_proba[idx].argsort()[-5:][::-1])"
   ]
  },
  {
   "cell_type": "code",
   "execution_count": 54,
   "metadata": {},
   "outputs": [],
   "source": [
    "# Function to get the more likely N labels\n",
    "def predict(model,x,N=5):\n",
    "    tmp = model.predict_proba(x)\n",
    "    pred = np.array([elem.argsort()[-N:][::-1] for elem in tmp])\n",
    "    return pred"
   ]
  },
  {
   "cell_type": "code",
   "execution_count": 57,
   "metadata": {},
   "outputs": [
    {
     "name": "stdout",
     "output_type": "stream",
     "text": [
      "[[  97   35   12   17    9]\n",
      " [  65  215   31  404   10]\n",
      " [ 759  539   57   37  112]\n",
      " [1260  657  719   51   22]\n",
      " [ 717   21   35   59    2]\n",
      " [ 463 1183   23   22   42]\n",
      " [  43  381  354   65   86]\n",
      " [ 911   85  106   55    2]\n",
      " [  94   19    4    2    3]\n",
      " [ 955  556  102   59   95]]\n",
      "[97]\n",
      "[215, 404, 1144]\n",
      "[539, 759]\n",
      "[22, 51, 172, 657, 719, 1260]\n",
      "[0, 1, 3, 6, 9, 17, 21]\n",
      "[0, 1, 3, 25, 38, 463, 511, 1183]\n",
      "[43]\n",
      "[85, 911]\n",
      "[1, 8, 19, 94, 315]\n",
      "[95, 556, 955]\n"
     ]
    }
   ],
   "source": [
    "# Testing the model\n",
    "m = 10 # number of test cases to take\n",
    "pred = predict(model,x_test[:m])\n",
    "test = [list(np.where(elem==1)[0]) for elem in y_test[:m]]\n",
    "print(pred)\n",
    "for elem in test:\n",
    "    print(elem)"
   ]
  }
 ],
 "metadata": {
  "kernelspec": {
   "display_name": "Python 3",
   "language": "python",
   "name": "python3"
  },
  "language_info": {
   "codemirror_mode": {
    "name": "ipython",
    "version": 3
   },
   "file_extension": ".py",
   "mimetype": "text/x-python",
   "name": "python",
   "nbconvert_exporter": "python",
   "pygments_lexer": "ipython3",
   "version": "3.8.5"
  }
 },
 "nbformat": 4,
 "nbformat_minor": 4
}
