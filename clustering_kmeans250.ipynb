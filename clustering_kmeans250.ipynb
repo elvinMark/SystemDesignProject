{
 "cells": [
  {
   "cell_type": "code",
   "execution_count": 43,
   "metadata": {},
   "outputs": [],
   "source": [
    "import pandas as pd\n",
    "import numpy as np\n",
    "from sklearn import cluster, preprocessing\n",
    "import matplotlib.pyplot as plt\n",
    "tags_word2vec = np.loadtxt(\"./data/tag_word2vec.dat\")\n",
    "tags_fasttext = np.loadtxt(\"./data/tags_vector.dat\")"
   ]
  },
  {
   "cell_type": "code",
   "execution_count": 44,
   "metadata": {},
   "outputs": [],
   "source": [
    "km = cluster.KMeans(n_clusters=250, random_state=0)"
   ]
  },
  {
   "cell_type": "code",
   "execution_count": 45,
   "metadata": {},
   "outputs": [],
   "source": [
    "z_km = km.fit(tags_word2vec)"
   ]
  },
  {
   "cell_type": "code",
   "execution_count": 46,
   "metadata": {},
   "outputs": [],
   "source": [
    "labels = z_km.labels_"
   ]
  },
  {
   "cell_type": "code",
   "execution_count": 47,
   "metadata": {},
   "outputs": [
    {
     "data": {
      "text/plain": [
       "250"
      ]
     },
     "execution_count": 47,
     "metadata": {},
     "output_type": "execute_result"
    }
   ],
   "source": [
    "label_num = len(set(labels))\n",
    "label_num"
   ]
  },
  {
   "cell_type": "code",
   "execution_count": 48,
   "metadata": {},
   "outputs": [],
   "source": [
    "weights = np.zeros(250)\n",
    "for label in labels:\n",
    "    weights[label] += 1\n",
    "for i in range(250):\n",
    "    weights[i] /= 2000"
   ]
  },
  {
   "cell_type": "code",
   "execution_count": 49,
   "metadata": {},
   "outputs": [
    {
     "name": "stdout",
     "output_type": "stream",
     "text": [
      "3\n",
      "6\n",
      "140\n"
     ]
    }
   ],
   "source": [
    "overweight = []\n",
    "for i in range(len(weights)):\n",
    "    if weights[i] > 0.025: #要素が2000*0.025=50より多い\n",
    "        print(i)\n",
    "        overweight.append(i)"
   ]
  },
  {
   "cell_type": "code",
   "execution_count": 50,
   "metadata": {},
   "outputs": [],
   "source": [
    "def cos_similarity(a, b):\n",
    "    return np.dot(a, b) / (np.linalg.norm(a) * np.linalg.norm(b))\n",
    "\n",
    "zero = np.zeros(200)\n",
    "for i in range(2000):\n",
    "    if labels[i] in overweight:\n",
    "        tmp = 0\n",
    "        for j in range(2000):\n",
    "            if (np.array_equal(tags_word2vec[j], zero) == False\n",
    "                and labels[j] not in overweight \n",
    "                and cos_similarity(tags_fasttext[i], tags_fasttext[j]) > tmp):\n",
    "                tmp = cos_similarity(tags_fasttext[i], tags_fasttext[j])\n",
    "                labels[i] = labels[j]"
   ]
  },
  {
   "cell_type": "code",
   "execution_count": 51,
   "metadata": {},
   "outputs": [],
   "source": [
    "df = pd.read_csv(\"./data/2000tags.csv\")\n",
    "df2 = pd.DataFrame({\n",
    "    \"word2vec\": list(tags_word2vec),\n",
    "    \"fasttext\": list(tags_fasttext),\n",
    "    \"クラスタ番号\": list(labels)\n",
    "})\n",
    "df3 = pd.concat([df.loc[:,[\"タグ\",\"投稿数\"]],df2], axis=1)\n",
    "\n",
    "df3.set_index(\"タグ\").to_csv(\"./data/2000tags_kmeans250.csv\")"
   ]
  },
  {
   "cell_type": "code",
   "execution_count": 52,
   "metadata": {},
   "outputs": [],
   "source": [
    "hashtags = [[] for i in range(label_num)]\n",
    "for j in range(2000):\n",
    "    hashtags[df3.loc[j][\"クラスタ番号\"]].append(df3.loc[j][\"タグ\"])"
   ]
  },
  {
   "cell_type": "code",
   "execution_count": 53,
   "metadata": {},
   "outputs": [],
   "source": [
    "df3 = pd.DataFrame({\n",
    "    \"クラスタ番号\": list(range(label_num)),\n",
    "    \"タグ\": hashtags\n",
    "})\n",
    "\n",
    "df3.set_index(\"クラスタ番号\").to_csv(\"./data/tags_per_cluster_kmeans250.csv\")"
   ]
  },
  {
   "cell_type": "code",
   "execution_count": 54,
   "metadata": {},
   "outputs": [],
   "source": [
    "with open(\"./data/tags_per_cluster_kmeans250.dat\",\"w\") as f:\n",
    "  for elem in hashtags:\n",
    "    f.write(str(elem) + \"\\n\")\n",
    "f.close()"
   ]
  },
  {
   "cell_type": "code",
   "execution_count": null,
   "metadata": {},
   "outputs": [],
   "source": []
  }
 ],
 "metadata": {
  "kernelspec": {
   "display_name": "Python 3",
   "language": "python",
   "name": "python3"
  },
  "language_info": {
   "codemirror_mode": {
    "name": "ipython",
    "version": 3
   },
   "file_extension": ".py",
   "mimetype": "text/x-python",
   "name": "python",
   "nbconvert_exporter": "python",
   "pygments_lexer": "ipython3",
   "version": "3.8.5"
  }
 },
 "nbformat": 4,
 "nbformat_minor": 4
}
