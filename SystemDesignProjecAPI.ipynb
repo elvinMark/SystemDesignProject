{
  "nbformat": 4,
  "nbformat_minor": 0,
  "metadata": {
    "colab": {
      "name": "SystemDesignProjecAPI.ipynb",
      "provenance": [],
      "collapsed_sections": []
    },
    "kernelspec": {
      "display_name": "Python 3",
      "name": "python3"
    }
  },
  "cells": [
    {
      "cell_type": "code",
      "metadata": {
        "colab": {
          "base_uri": "https://localhost:8080/"
        },
        "id": "ka_bZhg7nNih",
        "outputId": "c96fe5cb-3d80-4dba-a52d-002a734f113d"
      },
      "source": [
        "# Mount Google drive\n",
        "from google.colab import drive\n",
        "drive.mount(\"/content/drive\")"
      ],
      "execution_count": null,
      "outputs": [
        {
          "output_type": "stream",
          "text": [
            "Mounted at /content/drive\n"
          ],
          "name": "stdout"
        }
      ]
    },
    {
      "cell_type": "markdown",
      "metadata": {
        "id": "stLan7yl_NAi"
      },
      "source": [
        "Installing the necessary packages and modules (taken from the Dockerfile)"
      ]
    },
    {
      "cell_type": "code",
      "metadata": {
        "colab": {
          "base_uri": "https://localhost:8080/"
        },
        "id": "Z47VUpDDnVU_",
        "outputId": "b8d7b9d5-0bd0-4a2a-e0f3-5f78fc9ecb44"
      },
      "source": [
        "# Installing natto-py\n",
        "!pip install natto-py"
      ],
      "execution_count": null,
      "outputs": [
        {
          "output_type": "stream",
          "text": [
            "Collecting natto-py\n",
            "  Downloading https://files.pythonhosted.org/packages/f1/14/1d4258247a00b7b8a115563effb1d0bd30501d69580629d36593ce0af92d/natto-py-0.9.2.tar.gz\n",
            "Requirement already satisfied: cffi in /usr/local/lib/python3.6/dist-packages (from natto-py) (1.14.4)\n",
            "Requirement already satisfied: pycparser in /usr/local/lib/python3.6/dist-packages (from cffi->natto-py) (2.20)\n",
            "Building wheels for collected packages: natto-py\n",
            "  Building wheel for natto-py (setup.py) ... \u001b[?25l\u001b[?25hdone\n",
            "  Created wheel for natto-py: filename=natto_py-0.9.2-cp36-none-any.whl size=45163 sha256=3fbad9a285fc3a077138d435085d17896ac0c369fa8fb123286666ef3e66d092\n",
            "  Stored in directory: /root/.cache/pip/wheels/ce/51/dd/67f87608b124a23eecf5c1fc3557cc0b7ffdeae33fe6ee89df\n",
            "Successfully built natto-py\n",
            "Installing collected packages: natto-py\n",
            "Successfully installed natto-py-0.9.2\n"
          ],
          "name": "stdout"
        }
      ]
    },
    {
      "cell_type": "code",
      "metadata": {
        "colab": {
          "base_uri": "https://localhost:8080/"
        },
        "id": "H-pS9uU3uzjY",
        "outputId": "f5bd63f4-8049-4710-8f9a-d2679eb6da09"
      },
      "source": [
        "# Installing MeCab\n",
        "!sudo apt install mecab libmecab-dev mecab-ipadic-utf8 file "
      ],
      "execution_count": null,
      "outputs": [
        {
          "output_type": "stream",
          "text": [
            "Reading package lists... Done\n",
            "Building dependency tree       \n",
            "Reading state information... Done\n",
            "The following additional packages will be installed:\n",
            "  libmagic-mgc libmagic1 libmecab2 mecab-ipadic mecab-jumandic\n",
            "  mecab-jumandic-utf8 mecab-utils\n",
            "The following NEW packages will be installed:\n",
            "  file libmagic-mgc libmagic1 libmecab-dev libmecab2 mecab mecab-ipadic\n",
            "  mecab-ipadic-utf8 mecab-jumandic mecab-jumandic-utf8 mecab-utils\n",
            "0 upgraded, 11 newly installed, 0 to remove and 16 not upgraded.\n",
            "Need to get 29.3 MB of archives.\n",
            "After this operation, 282 MB of additional disk space will be used.\n",
            "Get:1 http://archive.ubuntu.com/ubuntu bionic-updates/main amd64 libmagic-mgc amd64 1:5.32-2ubuntu0.4 [184 kB]\n",
            "Get:2 http://archive.ubuntu.com/ubuntu bionic-updates/main amd64 libmagic1 amd64 1:5.32-2ubuntu0.4 [68.6 kB]\n",
            "Get:3 http://archive.ubuntu.com/ubuntu bionic-updates/main amd64 file amd64 1:5.32-2ubuntu0.4 [22.1 kB]\n",
            "Get:4 http://archive.ubuntu.com/ubuntu bionic/universe amd64 libmecab2 amd64 0.996-5 [257 kB]\n",
            "Get:5 http://archive.ubuntu.com/ubuntu bionic/universe amd64 libmecab-dev amd64 0.996-5 [308 kB]\n",
            "Get:6 http://archive.ubuntu.com/ubuntu bionic/universe amd64 mecab-utils amd64 0.996-5 [4,856 B]\n",
            "Get:7 http://archive.ubuntu.com/ubuntu bionic/universe amd64 mecab-jumandic-utf8 all 7.0-20130310-4 [16.2 MB]\n",
            "Get:8 http://archive.ubuntu.com/ubuntu bionic/universe amd64 mecab-jumandic all 7.0-20130310-4 [2,212 B]\n",
            "Get:9 http://archive.ubuntu.com/ubuntu bionic/universe amd64 mecab-ipadic all 2.7.0-20070801+main-1 [12.1 MB]\n",
            "Get:10 http://archive.ubuntu.com/ubuntu bionic/universe amd64 mecab amd64 0.996-5 [132 kB]\n",
            "Get:11 http://archive.ubuntu.com/ubuntu bionic/universe amd64 mecab-ipadic-utf8 all 2.7.0-20070801+main-1 [3,522 B]\n",
            "Fetched 29.3 MB in 2s (11.9 MB/s)\n",
            "debconf: unable to initialize frontend: Dialog\n",
            "debconf: (No usable dialog-like program is installed, so the dialog based frontend cannot be used. at /usr/share/perl5/Debconf/FrontEnd/Dialog.pm line 76, <> line 11.)\n",
            "debconf: falling back to frontend: Readline\n",
            "debconf: unable to initialize frontend: Readline\n",
            "debconf: (This frontend requires a controlling tty.)\n",
            "debconf: falling back to frontend: Teletype\n",
            "dpkg-preconfigure: unable to re-open stdin: \n",
            "Selecting previously unselected package libmagic-mgc.\n",
            "(Reading database ... 145483 files and directories currently installed.)\n",
            "Preparing to unpack .../00-libmagic-mgc_1%3a5.32-2ubuntu0.4_amd64.deb ...\n",
            "Unpacking libmagic-mgc (1:5.32-2ubuntu0.4) ...\n",
            "Selecting previously unselected package libmagic1:amd64.\n",
            "Preparing to unpack .../01-libmagic1_1%3a5.32-2ubuntu0.4_amd64.deb ...\n",
            "Unpacking libmagic1:amd64 (1:5.32-2ubuntu0.4) ...\n",
            "Selecting previously unselected package file.\n",
            "Preparing to unpack .../02-file_1%3a5.32-2ubuntu0.4_amd64.deb ...\n",
            "Unpacking file (1:5.32-2ubuntu0.4) ...\n",
            "Selecting previously unselected package libmecab2:amd64.\n",
            "Preparing to unpack .../03-libmecab2_0.996-5_amd64.deb ...\n",
            "Unpacking libmecab2:amd64 (0.996-5) ...\n",
            "Selecting previously unselected package libmecab-dev.\n",
            "Preparing to unpack .../04-libmecab-dev_0.996-5_amd64.deb ...\n",
            "Unpacking libmecab-dev (0.996-5) ...\n",
            "Selecting previously unselected package mecab-utils.\n",
            "Preparing to unpack .../05-mecab-utils_0.996-5_amd64.deb ...\n",
            "Unpacking mecab-utils (0.996-5) ...\n",
            "Selecting previously unselected package mecab-jumandic-utf8.\n",
            "Preparing to unpack .../06-mecab-jumandic-utf8_7.0-20130310-4_all.deb ...\n",
            "Unpacking mecab-jumandic-utf8 (7.0-20130310-4) ...\n",
            "Selecting previously unselected package mecab-jumandic.\n",
            "Preparing to unpack .../07-mecab-jumandic_7.0-20130310-4_all.deb ...\n",
            "Unpacking mecab-jumandic (7.0-20130310-4) ...\n",
            "Selecting previously unselected package mecab-ipadic.\n",
            "Preparing to unpack .../08-mecab-ipadic_2.7.0-20070801+main-1_all.deb ...\n",
            "Unpacking mecab-ipadic (2.7.0-20070801+main-1) ...\n",
            "Selecting previously unselected package mecab.\n",
            "Preparing to unpack .../09-mecab_0.996-5_amd64.deb ...\n",
            "Unpacking mecab (0.996-5) ...\n",
            "Selecting previously unselected package mecab-ipadic-utf8.\n",
            "Preparing to unpack .../10-mecab-ipadic-utf8_2.7.0-20070801+main-1_all.deb ...\n",
            "Unpacking mecab-ipadic-utf8 (2.7.0-20070801+main-1) ...\n",
            "Setting up libmecab2:amd64 (0.996-5) ...\n",
            "Setting up libmagic-mgc (1:5.32-2ubuntu0.4) ...\n",
            "Setting up libmagic1:amd64 (1:5.32-2ubuntu0.4) ...\n",
            "Setting up mecab-utils (0.996-5) ...\n",
            "Setting up mecab-ipadic (2.7.0-20070801+main-1) ...\n",
            "Compiling IPA dictionary for Mecab.  This takes long time...\n",
            "reading /usr/share/mecab/dic/ipadic/unk.def ... 40\n",
            "emitting double-array: 100% |###########################################| \n",
            "/usr/share/mecab/dic/ipadic/model.def is not found. skipped.\n",
            "reading /usr/share/mecab/dic/ipadic/Postp.csv ... 146\n",
            "reading /usr/share/mecab/dic/ipadic/Symbol.csv ... 208\n",
            "reading /usr/share/mecab/dic/ipadic/Noun.others.csv ... 151\n",
            "reading /usr/share/mecab/dic/ipadic/Noun.name.csv ... 34202\n",
            "reading /usr/share/mecab/dic/ipadic/Conjunction.csv ... 171\n",
            "reading /usr/share/mecab/dic/ipadic/Noun.place.csv ... 72999\n",
            "reading /usr/share/mecab/dic/ipadic/Noun.verbal.csv ... 12146\n",
            "reading /usr/share/mecab/dic/ipadic/Noun.number.csv ... 42\n",
            "reading /usr/share/mecab/dic/ipadic/Prefix.csv ... 221\n",
            "reading /usr/share/mecab/dic/ipadic/Auxil.csv ... 199\n",
            "reading /usr/share/mecab/dic/ipadic/Noun.demonst.csv ... 120\n",
            "reading /usr/share/mecab/dic/ipadic/Others.csv ... 2\n",
            "reading /usr/share/mecab/dic/ipadic/Interjection.csv ... 252\n",
            "reading /usr/share/mecab/dic/ipadic/Suffix.csv ... 1393\n",
            "reading /usr/share/mecab/dic/ipadic/Noun.nai.csv ... 42\n",
            "reading /usr/share/mecab/dic/ipadic/Postp-col.csv ... 91\n",
            "reading /usr/share/mecab/dic/ipadic/Noun.adjv.csv ... 3328\n",
            "reading /usr/share/mecab/dic/ipadic/Noun.proper.csv ... 27327\n",
            "reading /usr/share/mecab/dic/ipadic/Adnominal.csv ... 135\n",
            "reading /usr/share/mecab/dic/ipadic/Adverb.csv ... 3032\n",
            "reading /usr/share/mecab/dic/ipadic/Filler.csv ... 19\n",
            "reading /usr/share/mecab/dic/ipadic/Adj.csv ... 27210\n",
            "reading /usr/share/mecab/dic/ipadic/Verb.csv ... 130750\n",
            "reading /usr/share/mecab/dic/ipadic/Noun.csv ... 60477\n",
            "reading /usr/share/mecab/dic/ipadic/Noun.adverbal.csv ... 795\n",
            "reading /usr/share/mecab/dic/ipadic/Noun.org.csv ... 16668\n",
            "emitting double-array: 100% |###########################################| \n",
            "reading /usr/share/mecab/dic/ipadic/matrix.def ... 1316x1316\n",
            "emitting matrix      : 100% |###########################################| \n",
            "\n",
            "done!\n",
            "update-alternatives: using /var/lib/mecab/dic/ipadic to provide /var/lib/mecab/dic/debian (mecab-dictionary) in auto mode\n",
            "Setting up libmecab-dev (0.996-5) ...\n",
            "Setting up file (1:5.32-2ubuntu0.4) ...\n",
            "Setting up mecab-jumandic-utf8 (7.0-20130310-4) ...\n",
            "Compiling Juman dictionary for Mecab.\n",
            "reading /usr/share/mecab/dic/juman/unk.def ... 37\n",
            "emitting double-array: 100% |###########################################| \n",
            "reading /usr/share/mecab/dic/juman/Postp.csv ... 108\n",
            "reading /usr/share/mecab/dic/juman/Emoticon.csv ... 972\n",
            "reading /usr/share/mecab/dic/juman/Wikipedia.csv ... 167709\n",
            "reading /usr/share/mecab/dic/juman/Special.csv ... 158\n",
            "reading /usr/share/mecab/dic/juman/ContentW.csv ... 551145\n",
            "reading /usr/share/mecab/dic/juman/Prefix.csv ... 90\n",
            "reading /usr/share/mecab/dic/juman/Noun.koyuu.csv ... 7964\n",
            "reading /usr/share/mecab/dic/juman/Noun.suusi.csv ... 49\n",
            "reading /usr/share/mecab/dic/juman/Noun.hukusi.csv ... 81\n",
            "reading /usr/share/mecab/dic/juman/Suffix.csv ... 2128\n",
            "reading /usr/share/mecab/dic/juman/Demonstrative.csv ... 97\n",
            "reading /usr/share/mecab/dic/juman/Noun.keishiki.csv ... 8\n",
            "reading /usr/share/mecab/dic/juman/AuxV.csv ... 593\n",
            "reading /usr/share/mecab/dic/juman/Rengo.csv ... 1118\n",
            "reading /usr/share/mecab/dic/juman/Assert.csv ... 34\n",
            "reading /usr/share/mecab/dic/juman/Auto.csv ... 18931\n",
            "emitting double-array: 100% |###########################################| \n",
            "reading /usr/share/mecab/dic/juman/matrix.def ... 1876x1876\n",
            "emitting matrix      : 100% |###########################################| \n",
            "\n",
            "done!\n",
            "Setting up mecab-ipadic-utf8 (2.7.0-20070801+main-1) ...\n",
            "Compiling IPA dictionary for Mecab.  This takes long time...\n",
            "reading /usr/share/mecab/dic/ipadic/unk.def ... 40\n",
            "emitting double-array: 100% |###########################################| \n",
            "/usr/share/mecab/dic/ipadic/model.def is not found. skipped.\n",
            "reading /usr/share/mecab/dic/ipadic/Postp.csv ... 146\n",
            "reading /usr/share/mecab/dic/ipadic/Symbol.csv ... 208\n",
            "reading /usr/share/mecab/dic/ipadic/Noun.others.csv ... 151\n",
            "reading /usr/share/mecab/dic/ipadic/Noun.name.csv ... 34202\n",
            "reading /usr/share/mecab/dic/ipadic/Conjunction.csv ... 171\n",
            "reading /usr/share/mecab/dic/ipadic/Noun.place.csv ... 72999\n",
            "reading /usr/share/mecab/dic/ipadic/Noun.verbal.csv ... 12146\n",
            "reading /usr/share/mecab/dic/ipadic/Noun.number.csv ... 42\n",
            "reading /usr/share/mecab/dic/ipadic/Prefix.csv ... 221\n",
            "reading /usr/share/mecab/dic/ipadic/Auxil.csv ... 199\n",
            "reading /usr/share/mecab/dic/ipadic/Noun.demonst.csv ... 120\n",
            "reading /usr/share/mecab/dic/ipadic/Others.csv ... 2\n",
            "reading /usr/share/mecab/dic/ipadic/Interjection.csv ... 252\n",
            "reading /usr/share/mecab/dic/ipadic/Suffix.csv ... 1393\n",
            "reading /usr/share/mecab/dic/ipadic/Noun.nai.csv ... 42\n",
            "reading /usr/share/mecab/dic/ipadic/Postp-col.csv ... 91\n",
            "reading /usr/share/mecab/dic/ipadic/Noun.adjv.csv ... 3328\n",
            "reading /usr/share/mecab/dic/ipadic/Noun.proper.csv ... 27327\n",
            "reading /usr/share/mecab/dic/ipadic/Adnominal.csv ... 135\n",
            "reading /usr/share/mecab/dic/ipadic/Adverb.csv ... 3032\n",
            "reading /usr/share/mecab/dic/ipadic/Filler.csv ... 19\n",
            "reading /usr/share/mecab/dic/ipadic/Adj.csv ... 27210\n",
            "reading /usr/share/mecab/dic/ipadic/Verb.csv ... 130750\n",
            "reading /usr/share/mecab/dic/ipadic/Noun.csv ... 60477\n",
            "reading /usr/share/mecab/dic/ipadic/Noun.adverbal.csv ... 795\n",
            "reading /usr/share/mecab/dic/ipadic/Noun.org.csv ... 16668\n",
            "emitting double-array: 100% |###########################################| \n",
            "reading /usr/share/mecab/dic/ipadic/matrix.def ... 1316x1316\n",
            "emitting matrix      : 100% |###########################################| \n",
            "\n",
            "done!\n",
            "update-alternatives: using /var/lib/mecab/dic/ipadic-utf8 to provide /var/lib/mecab/dic/debian (mecab-dictionary) in auto mode\n",
            "Setting up mecab (0.996-5) ...\n",
            "debconf: unable to initialize frontend: Dialog\n",
            "debconf: (No usable dialog-like program is installed, so the dialog based frontend cannot be used. at /usr/share/perl5/Debconf/FrontEnd/Dialog.pm line 76.)\n",
            "debconf: falling back to frontend: Readline\n",
            "Compiling IPA dictionary for Mecab.  This takes long time...\n",
            "reading /usr/share/mecab/dic/ipadic/unk.def ... 40\n",
            "emitting double-array: 100% |###########################################| \n",
            "/usr/share/mecab/dic/ipadic/model.def is not found. skipped.\n",
            "reading /usr/share/mecab/dic/ipadic/Postp.csv ... 146\n",
            "reading /usr/share/mecab/dic/ipadic/Symbol.csv ... 208\n",
            "reading /usr/share/mecab/dic/ipadic/Noun.others.csv ... 151\n",
            "reading /usr/share/mecab/dic/ipadic/Noun.name.csv ... 34202\n",
            "reading /usr/share/mecab/dic/ipadic/Conjunction.csv ... 171\n",
            "reading /usr/share/mecab/dic/ipadic/Noun.place.csv ... 72999\n",
            "reading /usr/share/mecab/dic/ipadic/Noun.verbal.csv ... 12146\n",
            "reading /usr/share/mecab/dic/ipadic/Noun.number.csv ... 42\n",
            "reading /usr/share/mecab/dic/ipadic/Prefix.csv ... 221\n",
            "reading /usr/share/mecab/dic/ipadic/Auxil.csv ... 199\n",
            "reading /usr/share/mecab/dic/ipadic/Noun.demonst.csv ... 120\n",
            "reading /usr/share/mecab/dic/ipadic/Others.csv ... 2\n",
            "reading /usr/share/mecab/dic/ipadic/Interjection.csv ... 252\n",
            "reading /usr/share/mecab/dic/ipadic/Suffix.csv ... 1393\n",
            "reading /usr/share/mecab/dic/ipadic/Noun.nai.csv ... 42\n",
            "reading /usr/share/mecab/dic/ipadic/Postp-col.csv ... 91\n",
            "reading /usr/share/mecab/dic/ipadic/Noun.adjv.csv ... 3328\n",
            "reading /usr/share/mecab/dic/ipadic/Noun.proper.csv ... 27327\n",
            "reading /usr/share/mecab/dic/ipadic/Adnominal.csv ... 135\n",
            "reading /usr/share/mecab/dic/ipadic/Adverb.csv ... 3032\n",
            "reading /usr/share/mecab/dic/ipadic/Filler.csv ... 19\n",
            "reading /usr/share/mecab/dic/ipadic/Adj.csv ... 27210\n",
            "reading /usr/share/mecab/dic/ipadic/Verb.csv ... 130750\n",
            "reading /usr/share/mecab/dic/ipadic/Noun.csv ... 60477\n",
            "reading /usr/share/mecab/dic/ipadic/Noun.adverbal.csv ... 795\n",
            "reading /usr/share/mecab/dic/ipadic/Noun.org.csv ... 16668\n",
            "emitting double-array: 100% |###########################################| \n",
            "reading /usr/share/mecab/dic/ipadic/matrix.def ... 1316x1316\n",
            "emitting matrix      : 100% |###########################################| \n",
            "\n",
            "done!\n",
            "Setting up mecab-jumandic (7.0-20130310-4) ...\n",
            "Processing triggers for man-db (2.8.3-2ubuntu0.1) ...\n",
            "Processing triggers for libc-bin (2.27-3ubuntu1.2) ...\n",
            "/sbin/ldconfig.real: /usr/local/lib/python3.6/dist-packages/ideep4py/lib/libmkldnn.so.0 is not a symbolic link\n",
            "\n"
          ],
          "name": "stdout"
        }
      ]
    },
    {
      "cell_type": "code",
      "metadata": {
        "colab": {
          "base_uri": "https://localhost:8080/"
        },
        "id": "Atv9PwxjvmoG",
        "outputId": "4ffc1739-72e3-4e54-8dfb-8a06192fd25c"
      },
      "source": [
        "# Installing mecab dictionary\n",
        "!git clone --depth 1 https://github.com/neologd/mecab-ipadic-neologd.git\n",
        "%cd mecab-ipadic-neologd\n",
        "!./bin/install-mecab-ipadic-neologd -n -y --ignore_noun_ortho --ignore_noun_sahen_conn_ortho "
      ],
      "execution_count": null,
      "outputs": [
        {
          "output_type": "stream",
          "text": [
            "Cloning into 'mecab-ipadic-neologd'...\n",
            "remote: Enumerating objects: 75, done.\u001b[K\n",
            "remote: Counting objects: 100% (75/75), done.\u001b[K\n",
            "remote: Compressing objects: 100% (74/74), done.\u001b[K\n",
            "remote: Total 75 (delta 5), reused 54 (delta 0), pack-reused 0\n",
            "Unpacking objects: 100% (75/75), done.\n",
            "/content/mecab-ipadic-neologd\n",
            "[install-mecab-ipadic-NEologd] : Start..\n",
            "[install-mecab-ipadic-NEologd] : Check the existance of libraries\n",
            "[install-mecab-ipadic-NEologd] :     find => ok\n",
            "[install-mecab-ipadic-NEologd] :     sort => ok\n",
            "[install-mecab-ipadic-NEologd] :     head => ok\n",
            "[install-mecab-ipadic-NEologd] :     cut => ok\n",
            "[install-mecab-ipadic-NEologd] :     egrep => ok\n",
            "[install-mecab-ipadic-NEologd] :     mecab => ok\n",
            "[install-mecab-ipadic-NEologd] :     mecab-config => ok\n",
            "[install-mecab-ipadic-NEologd] :     make => ok\n",
            "[install-mecab-ipadic-NEologd] :     curl => ok\n",
            "[install-mecab-ipadic-NEologd] :     sed => ok\n",
            "[install-mecab-ipadic-NEologd] :     cat => ok\n",
            "[install-mecab-ipadic-NEologd] :     diff => ok\n",
            "[install-mecab-ipadic-NEologd] :     tar => ok\n",
            "[install-mecab-ipadic-NEologd] :     unxz => ok\n",
            "[install-mecab-ipadic-NEologd] :     xargs => ok\n",
            "[install-mecab-ipadic-NEologd] :     grep => ok\n",
            "[install-mecab-ipadic-NEologd] :     iconv => ok\n",
            "[install-mecab-ipadic-NEologd] :     patch => ok\n",
            "[install-mecab-ipadic-NEologd] :     which => ok\n",
            "[install-mecab-ipadic-NEologd] :     file => ok\n",
            "[install-mecab-ipadic-NEologd] :     openssl => ok\n",
            "[install-mecab-ipadic-NEologd] :     awk => ok\n",
            "\n",
            "[install-mecab-ipadic-NEologd] : mecab-ipadic-NEologd is already up-to-date\n",
            "\n",
            "[install-mecab-ipadic-NEologd] : mecab-ipadic-NEologd will be install to /usr/lib/x86_64-linux-gnu/mecab/dic/mecab-ipadic-neologd\n",
            "\n",
            "[install-mecab-ipadic-NEologd] : Make mecab-ipadic-NEologd\n",
            "[make-mecab-ipadic-NEologd] : Start..\n",
            "[make-mecab-ipadic-NEologd] : Check local seed directory\n",
            "[make-mecab-ipadic-NEologd] : Check local seed file\n",
            "[make-mecab-ipadic-NEologd] : Check local build directory\n",
            "[make-mecab-ipadic-NEologd] : create /content/mecab-ipadic-neologd/libexec/../build\n",
            "[make-mecab-ipadic-NEologd] : Download original mecab-ipadic file\n",
            "[make-mecab-ipadic-NEologd] : Try to access to https://ja.osdn.net\n",
            "[make-mecab-ipadic-NEologd] : Try to download from https://ja.osdn.net/frs/g_redir.php?m=kent&f=mecab%2Fmecab-ipadic%2F2.7.0-20070801%2Fmecab-ipadic-2.7.0-20070801.tar.gz\n",
            "  % Total    % Received % Xferd  Average Speed   Time    Time     Time  Current\n",
            "                                 Dload  Upload   Total   Spent    Left  Speed\n",
            "  0     0    0     0    0     0      0      0 --:--:-- --:--:-- --:--:--     0\n",
            "100 11.6M  100 11.6M    0     0  2673k      0  0:00:04  0:00:04 --:--:-- 3063k\n",
            "Hash value of /content/mecab-ipadic-neologd/libexec/../build/mecab-ipadic-2.7.0-20070801.tar.gz matched\n",
            "[make-mecab-ipadic-NEologd] : Decompress original mecab-ipadic file\n",
            "mecab-ipadic-2.7.0-20070801/\n",
            "mecab-ipadic-2.7.0-20070801/README\n",
            "mecab-ipadic-2.7.0-20070801/AUTHORS\n",
            "mecab-ipadic-2.7.0-20070801/COPYING\n",
            "mecab-ipadic-2.7.0-20070801/ChangeLog\n",
            "mecab-ipadic-2.7.0-20070801/INSTALL\n",
            "mecab-ipadic-2.7.0-20070801/Makefile.am\n",
            "mecab-ipadic-2.7.0-20070801/Makefile.in\n",
            "mecab-ipadic-2.7.0-20070801/NEWS\n",
            "mecab-ipadic-2.7.0-20070801/aclocal.m4\n",
            "mecab-ipadic-2.7.0-20070801/config.guess\n",
            "mecab-ipadic-2.7.0-20070801/config.sub\n",
            "mecab-ipadic-2.7.0-20070801/configure\n",
            "mecab-ipadic-2.7.0-20070801/configure.in\n",
            "mecab-ipadic-2.7.0-20070801/install-sh\n",
            "mecab-ipadic-2.7.0-20070801/missing\n",
            "mecab-ipadic-2.7.0-20070801/mkinstalldirs\n",
            "mecab-ipadic-2.7.0-20070801/Adj.csv\n",
            "mecab-ipadic-2.7.0-20070801/Adnominal.csv\n",
            "mecab-ipadic-2.7.0-20070801/Adverb.csv\n",
            "mecab-ipadic-2.7.0-20070801/Auxil.csv\n",
            "mecab-ipadic-2.7.0-20070801/Conjunction.csv\n",
            "mecab-ipadic-2.7.0-20070801/Filler.csv\n",
            "mecab-ipadic-2.7.0-20070801/Interjection.csv\n",
            "mecab-ipadic-2.7.0-20070801/Noun.adjv.csv\n",
            "mecab-ipadic-2.7.0-20070801/Noun.adverbal.csv\n",
            "mecab-ipadic-2.7.0-20070801/Noun.csv\n",
            "mecab-ipadic-2.7.0-20070801/Noun.demonst.csv\n",
            "mecab-ipadic-2.7.0-20070801/Noun.nai.csv\n",
            "mecab-ipadic-2.7.0-20070801/Noun.name.csv\n",
            "mecab-ipadic-2.7.0-20070801/Noun.number.csv\n",
            "mecab-ipadic-2.7.0-20070801/Noun.org.csv\n",
            "mecab-ipadic-2.7.0-20070801/Noun.others.csv\n",
            "mecab-ipadic-2.7.0-20070801/Noun.place.csv\n",
            "mecab-ipadic-2.7.0-20070801/Noun.proper.csv\n",
            "mecab-ipadic-2.7.0-20070801/Noun.verbal.csv\n",
            "mecab-ipadic-2.7.0-20070801/Others.csv\n",
            "mecab-ipadic-2.7.0-20070801/Postp-col.csv\n",
            "mecab-ipadic-2.7.0-20070801/Postp.csv\n",
            "mecab-ipadic-2.7.0-20070801/Prefix.csv\n",
            "mecab-ipadic-2.7.0-20070801/Suffix.csv\n",
            "mecab-ipadic-2.7.0-20070801/Symbol.csv\n",
            "mecab-ipadic-2.7.0-20070801/Verb.csv\n",
            "mecab-ipadic-2.7.0-20070801/char.def\n",
            "mecab-ipadic-2.7.0-20070801/feature.def\n",
            "mecab-ipadic-2.7.0-20070801/left-id.def\n",
            "mecab-ipadic-2.7.0-20070801/matrix.def\n",
            "mecab-ipadic-2.7.0-20070801/pos-id.def\n",
            "mecab-ipadic-2.7.0-20070801/rewrite.def\n",
            "mecab-ipadic-2.7.0-20070801/right-id.def\n",
            "mecab-ipadic-2.7.0-20070801/unk.def\n",
            "mecab-ipadic-2.7.0-20070801/dicrc\n",
            "mecab-ipadic-2.7.0-20070801/RESULT\n",
            "[make-mecab-ipadic-NEologd] : Configure custom system dictionary on /content/mecab-ipadic-neologd/libexec/../build/mecab-ipadic-2.7.0-20070801-neologd-20200910\n",
            "checking for a BSD-compatible install... /usr/bin/install -c\n",
            "checking whether build environment is sane... yes\n",
            "checking whether make sets $(MAKE)... yes\n",
            "checking for working aclocal-1.4... missing\n",
            "checking for working autoconf... missing\n",
            "checking for working automake-1.4... missing\n",
            "checking for working autoheader... missing\n",
            "checking for working makeinfo... missing\n",
            "checking for a BSD-compatible install... /usr/bin/install -c\n",
            "checking for mecab-config... /usr/bin/mecab-config\n",
            "configure: creating ./config.status\n",
            "config.status: creating Makefile\n",
            "[make-mecab-ipadic-NEologd] : Encode the character encoding of system dictionary resources from EUC_JP to UTF-8\n",
            "./../../libexec/iconv_euc_to_utf8.sh ./Postp.csv \n",
            "./../../libexec/iconv_euc_to_utf8.sh ./Symbol.csv \n",
            "./../../libexec/iconv_euc_to_utf8.sh ./Noun.others.csv \n",
            "./../../libexec/iconv_euc_to_utf8.sh ./Noun.name.csv \n",
            "./../../libexec/iconv_euc_to_utf8.sh ./Conjunction.csv \n",
            "./../../libexec/iconv_euc_to_utf8.sh ./Noun.place.csv \n",
            "./../../libexec/iconv_euc_to_utf8.sh ./Noun.verbal.csv \n",
            "./../../libexec/iconv_euc_to_utf8.sh ./Noun.number.csv \n",
            "./../../libexec/iconv_euc_to_utf8.sh ./Prefix.csv \n",
            "./../../libexec/iconv_euc_to_utf8.sh ./Auxil.csv \n",
            "./../../libexec/iconv_euc_to_utf8.sh ./Noun.demonst.csv \n",
            "./../../libexec/iconv_euc_to_utf8.sh ./Others.csv \n",
            "./../../libexec/iconv_euc_to_utf8.sh ./Interjection.csv \n",
            "./../../libexec/iconv_euc_to_utf8.sh ./Suffix.csv \n",
            "./../../libexec/iconv_euc_to_utf8.sh ./Noun.nai.csv \n",
            "./../../libexec/iconv_euc_to_utf8.sh ./Postp-col.csv \n",
            "./../../libexec/iconv_euc_to_utf8.sh ./Noun.adjv.csv \n",
            "./../../libexec/iconv_euc_to_utf8.sh ./Noun.proper.csv \n",
            "./../../libexec/iconv_euc_to_utf8.sh ./Adnominal.csv \n",
            "./../../libexec/iconv_euc_to_utf8.sh ./Adverb.csv \n",
            "./../../libexec/iconv_euc_to_utf8.sh ./Filler.csv \n",
            "./../../libexec/iconv_euc_to_utf8.sh ./Adj.csv \n",
            "./../../libexec/iconv_euc_to_utf8.sh ./Verb.csv \n",
            "./../../libexec/iconv_euc_to_utf8.sh ./Noun.csv \n",
            "./../../libexec/iconv_euc_to_utf8.sh ./Noun.adverbal.csv \n",
            "./../../libexec/iconv_euc_to_utf8.sh ./Noun.org.csv \n",
            "rm ./Postp.csv \n",
            "rm ./Symbol.csv \n",
            "rm ./Noun.others.csv \n",
            "rm ./Noun.name.csv \n",
            "rm ./Conjunction.csv \n",
            "rm ./Noun.place.csv \n",
            "rm ./Noun.verbal.csv \n",
            "rm ./Noun.number.csv \n",
            "rm ./Prefix.csv \n",
            "rm ./Auxil.csv \n",
            "rm ./Noun.demonst.csv \n",
            "rm ./Others.csv \n",
            "rm ./Interjection.csv \n",
            "rm ./Suffix.csv \n",
            "rm ./Noun.nai.csv \n",
            "rm ./Postp-col.csv \n",
            "rm ./Noun.adjv.csv \n",
            "rm ./Noun.proper.csv \n",
            "rm ./Adnominal.csv \n",
            "rm ./Adverb.csv \n",
            "rm ./Filler.csv \n",
            "rm ./Adj.csv \n",
            "rm ./Verb.csv \n",
            "rm ./Noun.csv \n",
            "rm ./Noun.adverbal.csv \n",
            "rm ./Noun.org.csv \n",
            "./../../libexec/iconv_euc_to_utf8.sh ./rewrite.def \n",
            "./../../libexec/iconv_euc_to_utf8.sh ./pos-id.def \n",
            "./../../libexec/iconv_euc_to_utf8.sh ./char.def \n",
            "./../../libexec/iconv_euc_to_utf8.sh ./matrix.def \n",
            "./../../libexec/iconv_euc_to_utf8.sh ./right-id.def \n",
            "./../../libexec/iconv_euc_to_utf8.sh ./unk.def \n",
            "./../../libexec/iconv_euc_to_utf8.sh ./feature.def \n",
            "./../../libexec/iconv_euc_to_utf8.sh ./left-id.def \n",
            "rm ./rewrite.def \n",
            "rm ./pos-id.def \n",
            "rm ./char.def \n",
            "rm ./matrix.def \n",
            "rm ./right-id.def \n",
            "rm ./unk.def \n",
            "rm ./feature.def \n",
            "rm ./left-id.def \n",
            "mv ./rewrite.def.utf8 ./rewrite.def \n",
            "mv ./Postp-col.csv.utf8 ./Postp-col.csv \n",
            "mv ./Noun.place.csv.utf8 ./Noun.place.csv \n",
            "mv ./unk.def.utf8 ./unk.def \n",
            "mv ./Symbol.csv.utf8 ./Symbol.csv \n",
            "mv ./Filler.csv.utf8 ./Filler.csv \n",
            "mv ./Noun.org.csv.utf8 ./Noun.org.csv \n",
            "mv ./Suffix.csv.utf8 ./Suffix.csv \n",
            "mv ./Noun.proper.csv.utf8 ./Noun.proper.csv \n",
            "mv ./left-id.def.utf8 ./left-id.def \n",
            "mv ./Adnominal.csv.utf8 ./Adnominal.csv \n",
            "mv ./Noun.others.csv.utf8 ./Noun.others.csv \n",
            "mv ./Noun.adjv.csv.utf8 ./Noun.adjv.csv \n",
            "mv ./Interjection.csv.utf8 ./Interjection.csv \n",
            "mv ./Noun.csv.utf8 ./Noun.csv \n",
            "mv ./Noun.verbal.csv.utf8 ./Noun.verbal.csv \n",
            "mv ./Noun.number.csv.utf8 ./Noun.number.csv \n",
            "mv ./Auxil.csv.utf8 ./Auxil.csv \n",
            "mv ./right-id.def.utf8 ./right-id.def \n",
            "mv ./Noun.demonst.csv.utf8 ./Noun.demonst.csv \n",
            "mv ./feature.def.utf8 ./feature.def \n",
            "mv ./Adj.csv.utf8 ./Adj.csv \n",
            "mv ./char.def.utf8 ./char.def \n",
            "mv ./Adverb.csv.utf8 ./Adverb.csv \n",
            "mv ./Noun.adverbal.csv.utf8 ./Noun.adverbal.csv \n",
            "mv ./Noun.nai.csv.utf8 ./Noun.nai.csv \n",
            "mv ./Prefix.csv.utf8 ./Prefix.csv \n",
            "mv ./Noun.name.csv.utf8 ./Noun.name.csv \n",
            "mv ./Conjunction.csv.utf8 ./Conjunction.csv \n",
            "mv ./pos-id.def.utf8 ./pos-id.def \n",
            "mv ./Postp.csv.utf8 ./Postp.csv \n",
            "mv ./Others.csv.utf8 ./Others.csv \n",
            "mv ./Verb.csv.utf8 ./Verb.csv \n",
            "mv ./matrix.def.utf8 ./matrix.def \n",
            "[make-mecab-ipadic-NEologd] : Fix yomigana field of IPA dictionary\n",
            "patching file Noun.csv\n",
            "patching file Noun.place.csv\n",
            "patching file Verb.csv\n",
            "patching file Noun.verbal.csv\n",
            "patching file Noun.name.csv\n",
            "patching file Noun.adverbal.csv\n",
            "patching file Noun.csv\n",
            "patching file Noun.name.csv\n",
            "patching file Noun.org.csv\n",
            "patching file Noun.others.csv\n",
            "patching file Noun.place.csv\n",
            "patching file Noun.proper.csv\n",
            "patching file Noun.verbal.csv\n",
            "patching file Prefix.csv\n",
            "patching file Suffix.csv\n",
            "patching file Noun.proper.csv\n",
            "patching file Noun.csv\n",
            "patching file Noun.name.csv\n",
            "patching file Noun.org.csv\n",
            "patching file Noun.place.csv\n",
            "patching file Noun.proper.csv\n",
            "patching file Noun.verbal.csv\n",
            "patching file Noun.name.csv\n",
            "patching file Noun.org.csv\n",
            "patching file Noun.place.csv\n",
            "patching file Noun.proper.csv\n",
            "patching file Suffix.csv\n",
            "patching file Noun.demonst.csv\n",
            "patching file Noun.csv\n",
            "patching file Noun.name.csv\n",
            "[make-mecab-ipadic-NEologd] : Copy user dictionary resource\n",
            "[make-mecab-ipadic-NEologd] : Install adverb entries using /content/mecab-ipadic-neologd/libexec/../seed/neologd-adverb-dict-seed.20150623.csv.xz\n",
            "[make-mecab-ipadic-NEologd] : Install interjection entries using /content/mecab-ipadic-neologd/libexec/../seed/neologd-interjection-dict-seed.20170216.csv.xz\n",
            "[make-mecab-ipadic-NEologd] : Not install /content/mecab-ipadic-neologd/libexec/../seed/neologd-common-noun-ortho-variant-dict-seed.20170228.csv.xz\n",
            "[make-mecab-ipadic-NEologd] : Not install /content/mecab-ipadic-neologd/libexec/../seed/neologd-proper-noun-ortho-variant-dict-seed.20161110.csv.xz\n",
            "[make-mecab-ipadic-NEologd] : Not install /content/mecab-ipadic-neologd/libexec/../seed/neologd-noun-sahen-conn-ortho-variant-dict-seed.20160323.csv.xz\n",
            "[make-mecab-ipadic-NEologd] : Install frequent adjective orthographic variant entries using /content/mecab-ipadic-neologd/libexec/../seed/neologd-adjective-std-dict-seed.20151126.csv.xz\n",
            "[make-mecab-ipadic-NEologd] : Not install /content/mecab-ipadic-neologd/libexec/../seed/neologd-adjective-exp-dict-seed.20151126.csv.xz\n",
            "[make-mecab-ipadic-NEologd] :     When you install neologd-adjective-exp-dict-seed.20151126.csv.xz, please set --install_adjective_exp option\n",
            "\n",
            "[make-mecab-ipadic-NEologd] : Install adjective verb orthographic variant entries using /content/mecab-ipadic-neologd/libexec/../seed/neologd-adjective-verb-dict-seed.20160324.csv.xz\n",
            "[make-mecab-ipadic-NEologd] : Not install /content/mecab-ipadic-neologd/libexec/../seed/neologd-date-time-infreq-dict-seed.20190415.csv.xz\n",
            "[make-mecab-ipadic-NEologd] :     When you install neologd-date-time-infreq-dict-seed.20190415.csv.xz, please set --install_infreq_datetime option\n",
            "\n",
            "[make-mecab-ipadic-NEologd] : Not install /content/mecab-ipadic-neologd/libexec/../seed/neologd-quantity-infreq-dict-seed.20190415.csv.xz\n",
            "[make-mecab-ipadic-NEologd] :     When you install neologd-quantity-infreq-dict-seed.20190415.csv.xz, please set --install_infreq_quantity option\n",
            "\n",
            "[make-mecab-ipadic-NEologd] : Install entries of ill formed words using /content/mecab-ipadic-neologd/libexec/../seed/neologd-ill-formed-words-dict-seed.20170127.csv.xz\n",
            "[make-mecab-ipadic-NEologd] : Re-Index system dictionary\n",
            "reading ./unk.def ... 40\n",
            "emitting double-array: 100% |###########################################| \n",
            "./model.def is not found. skipped.\n",
            "reading ./Postp.csv ... 146\n",
            "reading ./Symbol.csv ... 208\n",
            "reading ./Noun.others.csv ... 153\n",
            "reading ./Noun.name.csv ... 34215\n",
            "reading ./neologd-interjection-dict-seed.20170216.csv ... 4701\n",
            "reading ./Conjunction.csv ... 171\n",
            "reading ./Noun.place.csv ... 73194\n",
            "reading ./Noun.verbal.csv ... 12150\n",
            "reading ./Noun.number.csv ... 42\n",
            "reading ./Prefix.csv ... 224\n",
            "reading ./Auxil.csv ... 199\n",
            "reading ./Noun.demonst.csv ... 120\n",
            "reading ./Others.csv ... 2\n",
            "reading ./Interjection.csv ... 252\n",
            "reading ./Suffix.csv ... 1448\n",
            "reading ./Noun.nai.csv ... 42\n",
            "reading ./neologd-adverb-dict-seed.20150623.csv ... 139792\n",
            "reading ./Postp-col.csv ... 91\n",
            "reading ./Noun.adjv.csv ... 3328\n",
            "reading ./mecab-user-dict-seed.20200910.csv ... 3224584\n",
            "reading ./Noun.proper.csv ... 27493\n",
            "reading ./Adnominal.csv ... 135\n",
            "reading ./neologd-adjective-verb-dict-seed.20160324.csv ... 20268\n",
            "reading ./Adverb.csv ... 3032\n",
            "reading ./Filler.csv ... 19\n",
            "reading ./Adj.csv ... 27210\n",
            "reading ./neologd-adjective-std-dict-seed.20151126.csv ... 507812\n",
            "reading ./Verb.csv ... 130750\n",
            "reading ./neologd-ill-formed-words-dict-seed.20170127.csv ... 60616\n",
            "reading ./Noun.csv ... 60734\n",
            "reading ./Noun.adverbal.csv ... 808\n",
            "reading ./Noun.org.csv ... 17149\n",
            "emitting double-array: 100% |###########################################| \n",
            "reading ./matrix.def ... 1316x1316\n",
            "emitting matrix      : 100% |###########################################| \n",
            "\n",
            "done!\n",
            "[make-mecab-ipadic-NEologd] : Make custom system dictionary on /content/mecab-ipadic-neologd/libexec/../build/mecab-ipadic-2.7.0-20070801-neologd-20200910\n",
            "make: Nothing to be done for 'all'.\n",
            "[make-mecab-ipadic-NEologd] : Finish..\n",
            "[install-mecab-ipadic-NEologd] : OK. Let's install mecab-ipadic-NEologd.\n",
            "[install-mecab-ipadic-NEologd] : Start..\n",
            "[install-mecab-ipadic-NEologd] : /usr/lib/x86_64-linux-gnu/mecab/dic isn't current user's directory\n",
            "[install-mecab-ipadic-NEologd] : Sudo make install to /usr/lib/x86_64-linux-gnu/mecab/dic/mecab-ipadic-neologd\n",
            "make[1]: Entering directory '/content/mecab-ipadic-neologd/build/mecab-ipadic-2.7.0-20070801-neologd-20200910'\n",
            "make[1]: Nothing to be done for 'install-exec-am'.\n",
            "/bin/bash ./mkinstalldirs /usr/lib/x86_64-linux-gnu/mecab/dic/mecab-ipadic-neologd\n",
            "mkdir /usr/lib/x86_64-linux-gnu/mecab\n",
            "mkdir /usr/lib/x86_64-linux-gnu/mecab/dic\n",
            "mkdir /usr/lib/x86_64-linux-gnu/mecab/dic/mecab-ipadic-neologd\n",
            " /usr/bin/install -c -m 644 ./matrix.bin /usr/lib/x86_64-linux-gnu/mecab/dic/mecab-ipadic-neologd/matrix.bin\n",
            " /usr/bin/install -c -m 644 ./char.bin /usr/lib/x86_64-linux-gnu/mecab/dic/mecab-ipadic-neologd/char.bin\n",
            " /usr/bin/install -c -m 644 ./sys.dic /usr/lib/x86_64-linux-gnu/mecab/dic/mecab-ipadic-neologd/sys.dic\n",
            " /usr/bin/install -c -m 644 ./unk.dic /usr/lib/x86_64-linux-gnu/mecab/dic/mecab-ipadic-neologd/unk.dic\n",
            " /usr/bin/install -c -m 644 ./left-id.def /usr/lib/x86_64-linux-gnu/mecab/dic/mecab-ipadic-neologd/left-id.def\n",
            " /usr/bin/install -c -m 644 ./right-id.def /usr/lib/x86_64-linux-gnu/mecab/dic/mecab-ipadic-neologd/right-id.def\n",
            " /usr/bin/install -c -m 644 ./rewrite.def /usr/lib/x86_64-linux-gnu/mecab/dic/mecab-ipadic-neologd/rewrite.def\n",
            " /usr/bin/install -c -m 644 ./pos-id.def /usr/lib/x86_64-linux-gnu/mecab/dic/mecab-ipadic-neologd/pos-id.def\n",
            " /usr/bin/install -c -m 644 ./dicrc /usr/lib/x86_64-linux-gnu/mecab/dic/mecab-ipadic-neologd/dicrc\n",
            "make[1]: Leaving directory '/content/mecab-ipadic-neologd/build/mecab-ipadic-2.7.0-20070801-neologd-20200910'\n",
            "\n",
            "[install-mecab-ipadic-NEologd] : Install completed.\n",
            "[install-mecab-ipadic-NEologd] : When you use MeCab, you can set '/usr/lib/x86_64-linux-gnu/mecab/dic/mecab-ipadic-neologd' as a value of '-d' option of MeCab.\n",
            "[install-mecab-ipadic-NEologd] : Usage of mecab-ipadic-NEologd is here.\n",
            "Usage:\n",
            "    $ mecab -d /usr/lib/x86_64-linux-gnu/mecab/dic/mecab-ipadic-neologd ...\n",
            "\n",
            "[install-mecab-ipadic-NEologd] : Finish..\n",
            "[install-mecab-ipadic-NEologd] : Finish..\n"
          ],
          "name": "stdout"
        }
      ]
    },
    {
      "cell_type": "code",
      "metadata": {
        "colab": {
          "base_uri": "https://localhost:8080/"
        },
        "id": "QSjLY9cdwHEl",
        "outputId": "3043aebc-79b3-4587-d2f0-8ae8203a40d4"
      },
      "source": [
        "# Installing mecab japanese dictionary\n",
        "!wget https://ja.osdn.net/dl/naist-jdic/mecab-naist-jdic-0.6.3b-20111013.tar.gz \n",
        "!tar xvfz mecab-naist-jdic-0.6.3b-20111013.tar.gz\n",
        "%cd mecab-naist-jdic-0.6.3b-20111013\n",
        "!./configure --with-charset=utf8\n",
        "!make install"
      ],
      "execution_count": null,
      "outputs": [
        {
          "output_type": "stream",
          "text": [
            "--2021-01-12 02:33:33--  https://ja.osdn.net/dl/naist-jdic/mecab-naist-jdic-0.6.3b-20111013.tar.gz\n",
            "Resolving ja.osdn.net (ja.osdn.net)... 202.221.179.17\n",
            "Connecting to ja.osdn.net (ja.osdn.net)|202.221.179.17|:443... connected.\n",
            "HTTP request sent, awaiting response... 302 Found\n",
            "Location: https://ja.osdn.net/projects/naist-jdic/downloads/53500/mecab-naist-jdic-0.6.3b-20111013.tar.gz/ [following]\n",
            "--2021-01-12 02:33:34--  https://ja.osdn.net/projects/naist-jdic/downloads/53500/mecab-naist-jdic-0.6.3b-20111013.tar.gz/\n",
            "Reusing existing connection to ja.osdn.net:443.\n",
            "HTTP request sent, awaiting response... 302 Found\n",
            "Location: https://ja.osdn.net/frs/redir.php?m=gigenet&f=naist-jdic%2F53500%2Fmecab-naist-jdic-0.6.3b-20111013.tar.gz [following]\n",
            "--2021-01-12 02:33:34--  https://ja.osdn.net/frs/redir.php?m=gigenet&f=naist-jdic%2F53500%2Fmecab-naist-jdic-0.6.3b-20111013.tar.gz\n",
            "Reusing existing connection to ja.osdn.net:443.\n",
            "HTTP request sent, awaiting response... 302 Found\n",
            "Location: https://mirrors.gigenet.com/OSDN//naist-jdic/53500/mecab-naist-jdic-0.6.3b-20111013.tar.gz [following]\n",
            "--2021-01-12 02:33:34--  https://mirrors.gigenet.com/OSDN//naist-jdic/53500/mecab-naist-jdic-0.6.3b-20111013.tar.gz\n",
            "Resolving mirrors.gigenet.com (mirrors.gigenet.com)... 69.65.16.171, 2001:1850:f000:f000:f000:f000::\n",
            "Connecting to mirrors.gigenet.com (mirrors.gigenet.com)|69.65.16.171|:443... connected.\n",
            "HTTP request sent, awaiting response... 200 OK\n",
            "Length: 14974238 (14M) [application/octet-stream]\n",
            "Saving to: ‘mecab-naist-jdic-0.6.3b-20111013.tar.gz’\n",
            "\n",
            "mecab-naist-jdic-0. 100%[===================>]  14.28M  42.8MB/s    in 0.3s    \n",
            "\n",
            "2021-01-12 02:33:34 (42.8 MB/s) - ‘mecab-naist-jdic-0.6.3b-20111013.tar.gz’ saved [14974238/14974238]\n",
            "\n",
            "mecab-naist-jdic-0.6.3b-20111013/\n",
            "mecab-naist-jdic-0.6.3b-20111013/configure.in\n",
            "mecab-naist-jdic-0.6.3b-20111013/Makefile.am\n",
            "mecab-naist-jdic-0.6.3b-20111013/ChangeLog\n",
            "mecab-naist-jdic-0.6.3b-20111013/feature.def\n",
            "mecab-naist-jdic-0.6.3b-20111013/INSTALL\n",
            "mecab-naist-jdic-0.6.3b-20111013/RESULT\n",
            "mecab-naist-jdic-0.6.3b-20111013/AUTHORS\n",
            "mecab-naist-jdic-0.6.3b-20111013/config.guess\n",
            "mecab-naist-jdic-0.6.3b-20111013/missing\n",
            "mecab-naist-jdic-0.6.3b-20111013/right-id.def\n",
            "mecab-naist-jdic-0.6.3b-20111013/README\n",
            "mecab-naist-jdic-0.6.3b-20111013/NEWS\n",
            "mecab-naist-jdic-0.6.3b-20111013/char.def\n",
            "mecab-naist-jdic-0.6.3b-20111013/dicrc\n",
            "mecab-naist-jdic-0.6.3b-20111013/Makefile.in\n",
            "mecab-naist-jdic-0.6.3b-20111013/COPYING\n",
            "mecab-naist-jdic-0.6.3b-20111013/naist-jdic.csv\n",
            "mecab-naist-jdic-0.6.3b-20111013/config.sub\n",
            "mecab-naist-jdic-0.6.3b-20111013/unk.def\n",
            "mecab-naist-jdic-0.6.3b-20111013/mkinstalldirs\n",
            "mecab-naist-jdic-0.6.3b-20111013/pos-id.def\n",
            "mecab-naist-jdic-0.6.3b-20111013/matrix.def\n",
            "mecab-naist-jdic-0.6.3b-20111013/rewrite.def\n",
            "mecab-naist-jdic-0.6.3b-20111013/aclocal.m4\n",
            "mecab-naist-jdic-0.6.3b-20111013/configure\n",
            "mecab-naist-jdic-0.6.3b-20111013/install-sh\n",
            "mecab-naist-jdic-0.6.3b-20111013/left-id.def\n",
            "/content/mecab-ipadic-neologd/mecab-naist-jdic-0.6.3b-20111013\n",
            "checking for a BSD-compatible install... /usr/bin/install -c\n",
            "checking whether build environment is sane... yes\n",
            "checking for a thread-safe mkdir -p... /bin/mkdir -p\n",
            "checking for gawk... no\n",
            "checking for mawk... mawk\n",
            "checking whether make sets $(MAKE)... yes\n",
            "checking whether ln -s works... yes\n",
            "checking for mecab-config... /usr/bin/mecab-config\n",
            "configure: creating ./config.status\n",
            "config.status: creating Makefile\n",
            "/usr/lib/mecab/mecab-dict-index -d . -o . -f EUC-JP -t utf8\n",
            "reading ./unk.def ... 40\n",
            "emitting double-array: 100% |###########################################| \n",
            "./model.def is not found. skipped.\n",
            "reading ./naist-jdic.csv ... 485863\n",
            "emitting double-array: 100% |###########################################| \n",
            "reading ./matrix.def ... 1396x1396\n",
            "emitting matrix      : 100% |###########################################| \n",
            "\n",
            "done!\n",
            "To enable dictionary, rewrite /etc/mecabrc as \"dicdir = /usr/lib/x86_64-linux-gnu/mecab/dic/naist-jdic\"\n",
            "make[1]: Entering directory '/content/mecab-ipadic-neologd/mecab-naist-jdic-0.6.3b-20111013'\n",
            "make  install-exec-hook\n",
            "make[2]: Entering directory '/content/mecab-ipadic-neologd/mecab-naist-jdic-0.6.3b-20111013'\n",
            "if ! [ -d /etc/mecab/dic/naist-jdic ]; \\\n",
            "\tthen mkdir -p /etc/mecab/dic/naist-jdic; \\\n",
            "fi\n",
            "if ! [ -f /etc/mecab/dic/naist-jdic/dicrc ]; \\\n",
            "\tthen ln -s /usr/lib/x86_64-linux-gnu/mecab/dic/naist-jdic/dicrc /etc/mecab/dic/naist-jdic/dicrc; \\\n",
            "fi\n",
            "make[2]: Leaving directory '/content/mecab-ipadic-neologd/mecab-naist-jdic-0.6.3b-20111013'\n",
            "test -z \"/usr/lib/x86_64-linux-gnu/mecab/dic/naist-jdic\" || /bin/mkdir -p \"/usr/lib/x86_64-linux-gnu/mecab/dic/naist-jdic\"\n",
            " /usr/bin/install -c -m 644 matrix.bin char.bin sys.dic unk.dic naist-jdic.csv char.def feature.def left-id.def matrix.def pos-id.def rewrite.def right-id.def unk.def dicrc '/usr/lib/x86_64-linux-gnu/mecab/dic/naist-jdic'\n",
            "make[1]: Leaving directory '/content/mecab-ipadic-neologd/mecab-naist-jdic-0.6.3b-20111013'\n"
          ],
          "name": "stdout"
        }
      ]
    },
    {
      "cell_type": "code",
      "metadata": {
        "id": "nTimzMvkwh3l"
      },
      "source": [
        "!cp -f /etc/mecabrc /etc/mecabrc- \n",
        "!grep -v dicdir /etc/mecabrc- > /etc/mecabrc\n",
        "!echo \";dicdir = /var/lib/mecab/dic/debian\" >> /etc/mecabrc  \n",
        "!echo \";dicdir = /usr/lib/mecab/dic/ipadic-utf8\" >> /etc/mecabrc \n",
        "!echo \";dicdir = /usr/lib/x86_64-linux-gnu/mecab/dic/mecab-ipadic-neologd\" >> /etc/mecabrc  \n",
        "!echo \"dicdir = /usr/lib/x86_64-linux-gnu/mecab/dic/naist-jdic\" >>  /etc/mecabrc "
      ],
      "execution_count": null,
      "outputs": []
    },
    {
      "cell_type": "code",
      "metadata": {
        "id": "KENoNlIQwzef"
      },
      "source": [
        "!mkdir -p /usr/local/lib/mecab/dic \n",
        "!cd /usr/local/lib/mecab/dic \n",
        "!ln -s /usr/lib/x86_64-linux-gnu/mecab/dic/naist-jdic\n",
        "!ln -s /usr/lib/x86_64-linux-gnu/mecab/dic/mecab-ipadic-neologd "
      ],
      "execution_count": null,
      "outputs": []
    },
    {
      "cell_type": "markdown",
      "metadata": {
        "id": "00vesFDj_VQc"
      },
      "source": [
        "Testing that the packages and modules has been loaded correctly"
      ]
    },
    {
      "cell_type": "code",
      "metadata": {
        "colab": {
          "base_uri": "https://localhost:8080/"
        },
        "id": "y2hEKurGw_eV",
        "outputId": "12de7fe0-5208-461e-9136-d5f29046aaca"
      },
      "source": [
        "from natto import MeCab\n",
        "parser = MeCab()\n",
        "text =\"\"\"\n",
        "私は発表した。\n",
        "うまく発表出来た。\n",
        "\"\"\"\n",
        "text = text.split(\"\\n\") #改行で分割して配列にする\n",
        "print(text)\n",
        "while '' in text: #空行を削除\n",
        "    text.remove('')\n",
        "print(text)\n",
        "\n",
        "for i,sentence in enumerate(text): \n",
        "    print(\"文:\"+str(i))\n",
        "    print(parser.parse(sentence))"
      ],
      "execution_count": null,
      "outputs": [
        {
          "output_type": "stream",
          "text": [
            "['', '私は発表した。', 'うまく発表出来た。', '']\n",
            "['私は発表した。', 'うまく発表出来た。']\n",
            "文:0\n",
            "私\t名詞,代名詞,一般,*,*,*,私,ワタシ,ワタシ,,\n",
            "は\t助詞,係助詞,*,*,*,*,は,ハ,ワ,,\n",
            "発表\t名詞,サ変接続,*,*,*,*,発表,ハッピョウ,ハッピョー,,\n",
            "し\t動詞,自立,*,*,サ変・スル,連用形,する,シ,シ,,\n",
            "た\t助動詞,*,*,*,特殊・タ,基本形,た,タ,タ,,\n",
            "。\t記号,句点,*,*,*,*,。,。,。,,\n",
            "EOS\n",
            "文:1\n",
            "うまく\t形容詞,自立,*,*,形容詞・アウオ段,連用テ接続,うまい,ウマク,ウマク,うまく/上手く,\n",
            "発表\t名詞,サ変接続,*,*,*,*,発表,ハッピョウ,ハッピョー,,\n",
            "出来\t動詞,自立,*,*,一段,連用形,出来る,デキ,デキ,でき/出来,\n",
            "た\t助動詞,*,*,*,特殊・タ,基本形,た,タ,タ,,\n",
            "。\t記号,句点,*,*,*,*,。,。,。,,\n",
            "EOS\n"
          ],
          "name": "stdout"
        }
      ]
    },
    {
      "cell_type": "code",
      "metadata": {
        "colab": {
          "base_uri": "https://localhost:8080/"
        },
        "id": "piaudvxLBH2f",
        "outputId": "3a6f6c47-b500-4979-d583-d3dd8cf9602b"
      },
      "source": [
        "# Moving to the Project directory\n",
        "%cd /content/drive/MyDrive/ProjectSystemDesign/\n",
        "!ls"
      ],
      "execution_count": null,
      "outputs": [
        {
          "output_type": "stream",
          "text": [
            "/content/drive/MyDrive/ProjectSystemDesign\n",
            "2000tags.csv\t\t groups_tags_word2vec.txt\t tags_vector.dat\n",
            "2000tags_related.csv\t mecab-ipadic-neologd\t\t tags_vector_v2.dat\n",
            "2000tags_vectors.csv\t ngrok\t\t\t\t tags_vector_v3.dat\n",
            "data\t\t\t ngrok-stable-linux-amd64.zip\t tags_vector_v4.dat\n",
            "fastText\t\t ngrok-stable-linux-amd64.zip.1  tag_word2vec.dat\n",
            "glove-wiki-gigaword-100  sample_doc_vec.csv\t\t wiki.ja.bin\n",
            "groups.dat\t\t sample_seiri.csv\n"
          ],
          "name": "stdout"
        }
      ]
    },
    {
      "cell_type": "code",
      "metadata": {
        "id": "a9o5xvu7F67T"
      },
      "source": [
        "# Loading all necessary packages\n",
        "import pandas as pd\n",
        "import numpy as np\n",
        "from sklearn.model_selection import train_test_split\n",
        "from sklearn.naive_bayes import GaussianNB\n",
        "from sklearn.multiclass import OneVsRestClassifier\n",
        "from sklearn.preprocessing import MultiLabelBinarizer\n",
        "import pickle\n",
        "from tabulate import tabulate\n",
        "from natto import MeCab\n",
        "import logging\n",
        "from gensim.models import KeyedVectors\n",
        "from operator import add"
      ],
      "execution_count": null,
      "outputs": []
    },
    {
      "cell_type": "code",
      "metadata": {
        "id": "bd6DoysWtGsg"
      },
      "source": [
        "logger = logging.getLogger()\n",
        "logger.setLevel(logging.INFO)  #DEBUG を INFOに変えるとlogging.debugが出力されなくなる\n",
        "\n",
        "\n",
        "#授業の使いまわし\n",
        "def parse2df(text,sysdic=\"/usr/local/lib/mecab/dic/naist-jdic\"):\n",
        "    \"\"\"文毎に形態素解析を行い、結果をdataframeに格納して返す\n",
        "    Args:\n",
        "      text:形態素解析対象のテキスト\n",
        "    Returns:\n",
        "      形態素解析結果を格納したdataframe\n",
        "      カラムは['文番号','表層', '品詞1','品詞2','品詞3','品詞4','原型','posID']\n",
        "    \"\"\"\n",
        "    #結果格納用の空のDataFrame\n",
        "    df = pd.DataFrame(index=[], columns=['文番号','表層', '品詞1','品詞2','品詞3','品詞4','原型','posID'])\n",
        "    \n",
        "    text = text.split(\"\\n\") #改行で分割して配列にする\n",
        "    while '' in text: #空行は削除\n",
        "        text.remove('')\n",
        "    \n",
        "    #parser = MeCab(\"-d \"+sysdic)\n",
        "    parser = MeCab()\n",
        "    for index,sentence in enumerate(text): \n",
        "        logging.debug(sentence)\n",
        "        nodes = parser.parse(sentence,as_nodes=True)\n",
        "        for node in nodes:\n",
        "            if not node.is_eos():\n",
        "                #品詞情報を分割\n",
        "                feature = node.feature.split(',')\n",
        "                #dataframeに追加\n",
        "                series = pd.Series( [\n",
        "                    index,          #文番号\n",
        "                    node.surface,   #表層\n",
        "                    feature[0],     #品詞1\n",
        "                    feature[1],     #品詞2     \n",
        "                    feature[2],     #品詞3\n",
        "                    feature[3],     #品詞4\n",
        "                    feature[6],     #原型\n",
        "                    node.posid      #品詞番号\n",
        "                ], index=df.columns)\n",
        "                df = df.append(series, ignore_index = True)\n",
        "    logging.debug(\"End : parse2df\")  \n",
        "    df2 = df[df[\"posID\"].isin([36,37,38,40,41,42,43,44,45,46,47,50,51,52,66,67,2,31,10,34])]\n",
        "    stop_words = [\"する\"]\n",
        "    df2 = df2[~df2[\"原型\"].isin(stop_words )]  # ~df.isin(list) で listに含まれないもの となる\n",
        "    return df2  "
      ],
      "execution_count": null,
      "outputs": []
    },
    {
      "cell_type": "code",
      "metadata": {
        "id": "0jG7Yd_qugmY"
      },
      "source": [
        "#%cd data\n",
        "#!wget http://www.cl.ecei.tohoku.ac.jp/~m-suzuki/jawiki_vector/data/20170201.tar.bz2\n",
        "#!bunzip2 -d 20170201.tar.bz2\n",
        "#!tar -xvf 20170201.tar"
      ],
      "execution_count": null,
      "outputs": []
    },
    {
      "cell_type": "code",
      "metadata": {
        "colab": {
          "base_uri": "https://localhost:8080/"
        },
        "id": "Z4ueChgTtScj",
        "outputId": "1cdab05e-9694-4c3e-9a61-093bd0680eca"
      },
      "source": [
        "model = KeyedVectors.load_word2vec_format('./data/entity_vector/entity_vector.model.bin', binary=True)"
      ],
      "execution_count": null,
      "outputs": [
        {
          "output_type": "stream",
          "text": [
            "INFO:gensim.models.utils_any2vec:loading projection weights from ./data/entity_vector/entity_vector.model.bin\n",
            "INFO:gensim.models.utils_any2vec:loaded (1015474, 200) matrix from ./data/entity_vector/entity_vector.model.bin\n"
          ],
          "name": "stderr"
        }
      ]
    },
    {
      "cell_type": "code",
      "metadata": {
        "id": "DXZjpqIRyvA4"
      },
      "source": [
        "def doc2vector(title,content):\n",
        "  title_and_content = title + content\n",
        "  words = parse2df(title_and_content)[\"原型\"]\n",
        "  tmp = [0]*200 #200次元で単語が表現されている\n",
        "  word_count = 0 #文章中の単語のうちモデルに登録されているものの数\n",
        "  for word in words:\n",
        "    if word in model:\n",
        "      word_count += 1\n",
        "      tmp = list(map(add, tmp, model[word]))\n",
        "  return list(map(lambda x: x/word_count, tmp)) #平均を取る"
      ],
      "execution_count": null,
      "outputs": []
    },
    {
      "cell_type": "code",
      "metadata": {
        "id": "5onxL0dbGRPU"
      },
      "source": [
        "# Loading tags\n",
        "tags = pd.read_csv(\"./data/2000tags.csv\")\n",
        "tags = tags[\"タグ\"]\n",
        "\n",
        "# Load sample data (which includes the numerical labels)\n",
        "df = pd.read_csv(\"./data/sample_doc_vec_labels.csv\")"
      ],
      "execution_count": null,
      "outputs": []
    },
    {
      "cell_type": "code",
      "metadata": {
        "colab": {
          "base_uri": "https://localhost:8080/"
        },
        "id": "kvZPV4pwBgtp",
        "outputId": "efe2da9b-194b-4c5c-b0b3-5a2b9152aa49"
      },
      "source": [
        "# Getting and formatting the inputs (doc_vec) and outputs (multilabel) from dataframe \n",
        "X = np.array([np.array(eval(elem)) for elem in df[\"doc_vec\"]])\n",
        "Y = np.array([eval(elem) for elem in df[\"labels\"]])\n",
        "Y = MultiLabelBinarizer(classes=range(2000)).fit_transform(Y)\n",
        "\n",
        "# Separating the train and test data\n",
        "# It is commentend for now since the data size is small\n",
        "x_train, x_test,y_train, y_test = train_test_split(X,Y)"
      ],
      "execution_count": null,
      "outputs": [
        {
          "output_type": "stream",
          "text": [
            "/usr/local/lib/python3.6/dist-packages/ipykernel_launcher.py:3: VisibleDeprecationWarning: Creating an ndarray from ragged nested sequences (which is a list-or-tuple of lists-or-tuples-or ndarrays with different lengths or shapes) is deprecated. If you meant to do this, you must specify 'dtype=object' when creating the ndarray\n",
            "  This is separate from the ipykernel package so we can avoid doing imports until\n"
          ],
          "name": "stderr"
        }
      ]
    },
    {
      "cell_type": "code",
      "metadata": {
        "id": "-2UtHxokp2Gm"
      },
      "source": [
        "# Defining our model (in this case I am using a Gaussian Naive Bayes Classifier) \n",
        "# and updating it for multilabeling\n",
        "model = OneVsRestClassifier(GaussianNB())\n",
        "# Fitting the model with data\n",
        "model.fit(x_train,y_train)"
      ],
      "execution_count": null,
      "outputs": []
    },
    {
      "cell_type": "code",
      "metadata": {
        "id": "cHaZEfV9Dcbc"
      },
      "source": [
        "# Function to get the more likely N labels\n",
        "def predict(model,x,N=5):\n",
        "    tmp = model.predict_proba(x)\n",
        "    pred = np.array([elem.argsort()[-N:][::-1] for elem in tmp])\n",
        "    return pred\n",
        "def single_predict(model,x,N=5):\n",
        "    tmp = model.predict_proba(np.array([x]))\n",
        "    pred_idx = tmp[0].argsort()[-N:][::-1]\n",
        "    pred_prob = tmp[0][pred_idx]\n",
        "    return pred_idx,pred_prob"
      ],
      "execution_count": null,
      "outputs": []
    },
    {
      "cell_type": "code",
      "metadata": {
        "id": "EeA1aT8RE3Jl"
      },
      "source": [
        "# Save model\n",
        "with open(\"./data/NaiveGBmodel.pkl\",\"wb\") as f:\n",
        "  pickle.dump(model,f)\n",
        "f.close()"
      ],
      "execution_count": null,
      "outputs": []
    },
    {
      "cell_type": "code",
      "metadata": {
        "id": "x-5PNSLWFl1g"
      },
      "source": [
        "# Load model\n",
        "with open(\"./data/NaiveGBmodel.pkl\",\"rb\") as f:\n",
        "  gauss_model = pickle.load(f)\n",
        "f.close()"
      ],
      "execution_count": null,
      "outputs": []
    },
    {
      "cell_type": "code",
      "metadata": {
        "colab": {
          "base_uri": "https://localhost:8080/"
        },
        "id": "x5ZTP1MgGsd4",
        "outputId": "fd802b08-c7c2-48db-a61a-0282278baae4"
      },
      "source": [
        "# Testing the model (with single predict function)\n",
        "idx = 84\n",
        "#x_test1 = eval(df[\"doc_vec\"][idx])\n",
        "#y_test1 = eval(df[\"labels\"][idx])\n",
        "x_test1 = x_test[idx]\n",
        "y_test1 = list(np.where(y_test[idx])[0])\n",
        "pred,prob = single_predict(gauss_model,x_test1,N=10)\n",
        "test = y_test1\n",
        "pred = list(pred)\n",
        "print(\"predicted indexes: \",pred)\n",
        "print(\"original indexes: \",test)\n",
        "lp = len(pred)\n",
        "lt = len(test)\n",
        "if lp < lt:\n",
        "    pred = pred + [\"\"]*(lt-lp)\n",
        "elif lt < lp:\n",
        "    test = test + [\"\"]*(lp - lt)\n",
        "#print(\"Predicted Tags \\t status \\t Original Tags\")\n",
        "tmp = []\n",
        "for i in pred:\n",
        "    status = \"          \"\n",
        "    if i in test:\n",
        "        j = i\n",
        "        status = \"<- match ->\"\n",
        "    else:\n",
        "        for k in test:\n",
        "            if k not in pred:\n",
        "                j = k\n",
        "                break\n",
        "    #print(\"%s \\t %s \\t %s\".format(i if i==\"\" else tags[i],status,j if j == \"\" else tags[j]))\n",
        "    tmp.append([i if i==\"\" else tags[i],status,j if j == \"\" else tags[j]])\n",
        "    test.pop(test.index(j))\n",
        "print(tabulate(tmp,headers=[\"Predicted Tags\",\"status\",\"Original Tags\"]))"
      ],
      "execution_count": null,
      "outputs": [
        {
          "output_type": "stream",
          "text": [
            "predicted indexes:  [41, 3, 19, 9, 18, 17, 6, 160, 12, 30]\n",
            "original indexes:  [3, 41]\n",
            "Predicted Tags       status       Original Tags\n",
            "-------------------  -----------  -------------------\n",
            "#習慣にしていること  <- match ->  #習慣にしていること\n",
            "#毎日note            <- match ->  #毎日note\n",
            "#スキしてみて\n",
            "#毎日更新\n",
            "#日常\n",
            "#毎日投稿\n",
            "#コラム\n",
            "#習慣\n",
            "#note\n",
            "#生き方\n"
          ],
          "name": "stdout"
        }
      ]
    },
    {
      "cell_type": "code",
      "metadata": {
        "id": "XkSAEZd84Qx0"
      },
      "source": [
        "def test_match(pred,test):\n",
        "  print(\"predicted indexes: \",pred)\n",
        "  print(\"original indexes: \",test)\n",
        "  lp = len(pred)\n",
        "  lt = len(test)\n",
        "  if lp < lt:\n",
        "      pred = pred + [\"\"]*(lt-lp)\n",
        "  elif lt < lp:\n",
        "      test = test + [\"\"]*(lp - lt)\n",
        "  #print(\"Predicted Tags \\t status \\t Original Tags\")\n",
        "  tmp = []\n",
        "  for i in pred:\n",
        "    status = \"          \"\n",
        "    if i in test:\n",
        "      j = i\n",
        "      status = \"<- match ->\"\n",
        "    else:\n",
        "      for k in test:\n",
        "        if k not in pred:\n",
        "          j = k\n",
        "          break\n",
        "    #print(\"%s \\t %s \\t %s\".format(i if i==\"\" else tags[i],status,j if j == \"\" else tags[j]))\n",
        "    tmp.append([i if i==\"\" else tags[i],status,j if j == \"\" else tags[j]])\n",
        "    test.pop(test.index(j))\n",
        "  print(tabulate(tmp,headers=[\"Predicted Tags\",\"status\",\"Original Tags\"]))"
      ],
      "execution_count": null,
      "outputs": []
    },
    {
      "cell_type": "code",
      "metadata": {
        "colab": {
          "base_uri": "https://localhost:8080/"
        },
        "id": "WQA99wEZ5GJ3",
        "outputId": "83f98aa5-dc0c-49ad-b11a-3b0343a13035"
      },
      "source": [
        "idx = 215\n",
        "title,content  = df.iloc[idx][\"title\"], df.iloc[idx][\"content\"]\n",
        "xtest1 = doc2vector(title,content)\n",
        "ytest1 = eval(df.iloc[idx][\"labels\"])\n",
        "pred, prob = pred,prob = single_predict(gauss_model,xtest1,N=10)\n",
        "test_match(list(pred),ytest1)"
      ],
      "execution_count": null,
      "outputs": [
        {
          "output_type": "stream",
          "text": [
            "predicted indexes:  [180, 85, 24, 143, 167, 133, 731, 151, 116, 30]\n",
            "original indexes:  [61, 111, 581, 731, 1853]\n",
            "Predicted Tags    status       Original Tags\n",
            "----------------  -----------  ---------------\n",
            "#自分                          #英語\n",
            "#考え方                        #英語学習\n",
            "#恋愛                          #転職活動\n",
            "#自分と向き合う                #ビジネス英語\n",
            "#自己肯定感\n",
            "#思考\n",
            "#TOEIC            <- match ->  #TOEIC\n",
            "#成長\n",
            "#心\n",
            "#生き方\n"
          ],
          "name": "stdout"
        }
      ]
    },
    {
      "cell_type": "code",
      "metadata": {
        "colab": {
          "base_uri": "https://localhost:8080/"
        },
        "id": "Lt0IRmlW6ulk",
        "outputId": "faa4f9b2-955a-416a-e8b6-3e2b6545282a"
      },
      "source": [
        "T = []\n",
        "counts = 0\n",
        "for tag in tags:\n",
        "  v = None\n",
        "  try:\n",
        "    v = model.word_vec(tag[1:])\n",
        "    #print(v.shape)\n",
        "  except Exception:\n",
        "    #print(tag,counts)\n",
        "    counts += 1\n",
        "    v = np.array([0]*200)\n",
        "  T.append(v)\n",
        "T = np.array(T)\n",
        "np.savetxt(\"tag_word2vec.dat\",T)"
      ],
      "execution_count": null,
      "outputs": [
        {
          "output_type": "stream",
          "text": [
            "[0. 0. 0. 0. 0. 0. 0. 0. 0. 0. 0. 0. 0. 0. 0. 0. 0. 0. 0. 0. 0. 0. 0. 0.\n",
            " 0. 0. 0. 0. 0. 0. 0. 0. 0. 0. 0. 0. 0. 0. 0. 0. 0. 0. 0. 0. 0. 0. 0. 0.\n",
            " 0. 0. 0. 0. 0. 0. 0. 0. 0. 0. 0. 0. 0. 0. 0. 0. 0. 0. 0. 0. 0. 0. 0. 0.\n",
            " 0. 0. 0. 0. 0. 0. 0. 0. 0. 0. 0. 0. 0. 0. 0. 0. 0. 0. 0. 0. 0. 0. 0. 0.\n",
            " 0. 0. 0. 0. 0. 0. 0. 0. 0. 0. 0. 0. 0. 0. 0. 0. 0. 0. 0. 0. 0. 0. 0. 0.\n",
            " 0. 0. 0. 0. 0. 0. 0. 0. 0. 0. 0. 0. 0. 0. 0. 0. 0. 0. 0. 0. 0. 0. 0. 0.\n",
            " 0. 0. 0. 0. 0. 0. 0. 0. 0. 0. 0. 0. 0. 0. 0. 0. 0. 0. 0. 0. 0. 0. 0. 0.\n",
            " 0. 0. 0. 0. 0. 0. 0. 0. 0. 0. 0. 0. 0. 0. 0. 0. 0. 0. 0. 0. 0. 0. 0. 0.\n",
            " 0. 0. 0. 0. 0. 0. 0. 0.]\n"
          ],
          "name": "stdout"
        }
      ]
    },
    {
      "cell_type": "code",
      "metadata": {
        "colab": {
          "base_uri": "https://localhost:8080/"
        },
        "id": "NcstEMYJGAOu",
        "outputId": "c347bb5a-6ca0-4b3b-f0db-6b86430e3d6d"
      },
      "source": [
        "from sklearn.cluster import KMeans\n",
        "kmeans_model = KMeans(n_clusters=100)\n",
        "kmeans_model.fit(T)"
      ],
      "execution_count": null,
      "outputs": [
        {
          "output_type": "execute_result",
          "data": {
            "text/plain": [
              "KMeans(algorithm='auto', copy_x=True, init='k-means++', max_iter=300,\n",
              "       n_clusters=100, n_init=10, n_jobs=None, precompute_distances='auto',\n",
              "       random_state=None, tol=0.0001, verbose=0)"
            ]
          },
          "metadata": {
            "tags": []
          },
          "execution_count": 151
        }
      ]
    },
    {
      "cell_type": "code",
      "metadata": {
        "colab": {
          "base_uri": "https://localhost:8080/"
        },
        "id": "ikIa-FdRGeYi",
        "outputId": "a2c66bc1-1e9b-45bb-86f8-684c8ff58068"
      },
      "source": [
        "groups_tags = [[] for i in range(100)]\n",
        "for i,j in zip(tags,kmeans_model.labels_):\n",
        "  groups_tags[j].append(i)\n",
        "with open(\"groups_tags_word2vec.txt\",\"w\") as f:\n",
        "  for elem in groups_tags:\n",
        "    f.write(str(elem) + \"\\n\")\n",
        "    print(elem)\n",
        "  f.close()"
      ],
      "execution_count": null,
      "outputs": [
        {
          "output_type": "stream",
          "text": [
            "['#DTM', '#的中', '#スタートアップ', '#ART', '#記録', '#AI', '#エンタメ', '#馬券', '#music', '#おすすめ', '#Amazon', '#スマホ', '#マインド', '#japan', '#アフィリエイト', '#ブランディング', '#LINE', '#ネットラジオ', '#ヒーリング', '#ライティング', '#フォロー', '#ポッドキャスト', '#2020年', '#ライブ配信', '#お知らせ', '#Design', '#パチンコ', '#VR', '#ボードゲーム', '#スナップ', '#人工知能', '#ビジネスモデル', '#ネットショップ', '#iPad', '#スキンケア', '#UX', '#Google', '#マネー', '#BL', '#オーガニック', '#プレゼン', '#life', '#東日本大震災', '#radio', '#パチスロ', '#ファイナンス', '#UI', '#インスト', '#スロット', '#NHK', '#ガジェット', '#Mac', '#楽天', '#物販', '#FP', '#一眼レフ', '#経営戦略', '#フォロワー', '#英単語', '#Tokyo', '#Honda', '#円', '#love', '#DX', '#bar', '#エクササイズ', '#モーニング', '#テレビ東京', '#Cafe']\n",
            "['#つぶやき', '#雑記', '#ポエム', '#スピリチュアル', '#就活', '#4コマ漫画', '#占い', '#連載小説', '#ハンドメイド', '#ヨガ', '#うつ', '#名言', '#独り言', '#恋愛小説', '#ショートストーリー', '#体験談', '#一人旅', '#ポジティブ', '#まんが', '#雑談', '#人生観', '#イラストレーション', '#落書き', '#ポートレート', '#麻雀', '#ビジネス書', '#占い師', '#フォトグラファー', '#日本酒', '#グラフィックデザイン', '#格言', '#シュール', '#家庭料理', '#将棋', '#ナンパ', '#映画鑑賞', '#手帳', '#美容室', '#ネガティブ', '#川柳', '#ジェンダー', '#まとめ', '#モテ', '#おやつ', '#占星術', '#雑学', '#片付け', '#開運', '#珈琲', '#おしゃれ', '#コスメ', '#似顔絵', '#こころ', '#blog', '#poem', '#ワクワク', '#ドローイング', '#オススメ', '#パスタ', '#ジャニーズ', '#飲み会', '#アロマ', '#怪談', '#コピーライター', '#引きこもり', '#日誌', '#ブロガー', '#ファンタジー小説', '#水彩', '#早起き', '#日本史', '#コンプレックス', '#夕焼け', '#書道', '#クラシック音楽', '#エッセー', '#ライトノベル', '#二次創作', '#水彩画', '#しあわせ', '#海外ドラマ', '#文房具', '#エロ', '#お仕事', '#あるある', '#ハゲ', '#図解', '#SF小説', '#習い事', '#手描き', '#百合', '#バレンタイン', '#イライラ', '#純文学', '#内省', '#専業主婦', '#銭湯', '#ぼやき', '#頑張る', '#日報', '#イケメン', '#コラージュ', '#都市伝説', '#ジブリ', '#コツ', '#おにぎり', '#お話', '#働く女性', '#美容院', '#オカルト', '#おばあちゃん', '#トランプ', '#和菓子', '#七夕', '#デッサン', '#現代美術', '#話し方', '#ギャグ漫画', '#ドラえもん', '#おめでとう']\n",
            "['#アート', '#デザイン', '#テクノロジー', '#アイデア', '#企画', '#インテリア', '#展示', '#ビジョン']\n",
            "['#小説', '#マンガ', '#恋愛', '#短編', '#物語', '#ファンタジー', '#4コマ', '#SF', '#ノンフィクション', '#青春', '#舞台', '#ホラー', '#ミステリー', '#フィクション', '#実話', '#ミュージカル', '#冒険', '#コミック', '#コメディ', '#ドキュメンタリー']\n",
            "['#結婚', '#離婚']\n",
            "['#妊娠', '#病気', '#トレード', '#出産', '#リハビリ', '#闘病', '#入院', '#腰痛', '#減量', '#手術', '#癌', '#体調不良']\n",
            "['#ライブ', '#渋谷', '#新宿', '#ライブハウス', '#LIVE', '#銀座']\n",
            "['#感情', '#不安', '#怒り', '#恐怖']\n",
            "['#花', '#空', '#海', '#桜', '#雨', '#風景', '#神社', '#雲', '#月', '#公園', '#温泉', '#台風', '#紅葉', '#満月', '#山', '#街', '#雪', '#青空', '#景色', '#庭', '#水', '#夜景', '#富士山', '#花火', '#天気', '#木', '#夕暮れ', '#虹', '#夕日', '#地震', '#森', '#嵐']\n",
            "['#観光', '#情報発信', '#集客', '#まちづくり', '#ボランティア', '#鉄道', '#広報', '#地域活性化', '#PR', '#浄化', '#通勤']\n",
            "['#料理', '#習慣', '#レシピ', '#食事', '#食', '#ワイン', '#酒', '#野菜', '#食べ物', '#発酵', '#香り']\n",
            "['#ライター', '#イラストレーター', '#デザイナー', '#写真家', '#作家', '#編集者', '#カメラマン', '#俳優', '#小説家', '#漫画家', '#女優', '#画家']\n",
            "['#高校', '#小学校', '#幼稚園']\n",
            "['#オリジナル', '#フリーランス', '#エンジニア', '#クリエイター', '#テレビ', '#ロック', '#クリエイティブ', '#洋楽', '#アパレル', '#カルチャー', '#ディズニー', '#リーダー', '#クラシック', '#DJ', '#ベース', '#メイン', '#モデル', '#コラボ', '#セールス', '#ヒップホップ']\n",
            "['#採用']\n",
            "['#コーチング', '#メンタル', '#プログラミング', '#うつ病', '#美容', '#資産運用', '#就職活動', '#ADHD', '#整体', '#大学受験', '#不登校', '#英会話', '#カウンセリング', '#美容師', '#精神疾患', '#起業家', '#新卒', '#保育園', '#インターン', '#面接', '#こども', '#フィットネス', '#認知症', '#鍼灸', '#英語教育', '#ものづくり', '#セラピスト', '#精神科', '#大学院', '#マッサージ', '#中学受験', '#東大', '#カウンセラー', '#資格試験', '#障害者', '#新入社員', '#求人', '#NPO', '#精神障害', '#学習塾', '#接客', '#東洋医学', '#保育', '#リハビリテーション', '#理系', '#日本文化']\n",
            "['#ビジネス', '#マーケティング', '#マネジメント', '#IT', '#ベンチャー', '#ノウハウ', '#企業', '#コンサルタント', '#中小企業', '#サービス', '#サポート', '#コンサルティング']\n",
            "['#サッカー', '#野球', '#プロ野球']\n",
            "['#いじめ', '#相談', '#自粛', '#質問', '#社会問題', '#差別', '#虐待', '#宣伝', '#反省', '#詐欺', '#誹謗中傷', '#取材']\n",
            "['#子ども', '#子供', '#友達', '#女の子', '#大人', '#若者', '#少女']\n",
            "['#旅', '#旅行', '#留学']\n",
            "['#日記', '#絵', '#言葉', '#感想', '#文章', '#メモ', '#メッセージ', '#手紙', '#記事', '#ノート', '#手書き']\n",
            "['#家族', '#夫婦', '#親子', '#母', '#不倫', '#恋人', '#息子', '#娘', '#彼女', '#親', '#父', '#友人', '#母親', '#女', '#夫', '#父親', '#妻', '#家']\n",
            "['#子育て', '#育児', '#健康', '#介護', '#ストレス', '#睡眠', '#家事', '#食生活', '#栄養', '#筋肉', '#妊婦', '#身体', '#呼吸', '#高齢者', '#風邪', '#脳', '#がん', '#生理', '#障害', '#糖尿病', '#難病', '#薬', '#頭痛', '#アレルギー']\n",
            "['#鎌倉', '#奈良', '#大井', '#東京都', '#川崎', '#高知', '#金沢', '#静岡', '#福島', '#湘南']\n",
            "['#海外', '#アメリカ', '#日本', '#沖縄', '#中国', '#台湾', '#韓国', '#タイ', '#オーストラリア', '#インド', '#ベトナム', '#カナダ', '#ハワイ', '#香港', '#アフリカ', '#フィリピン', '#東南アジア', '#マレーシア', '#シンガポール', '#日本人', '#インドネシア', '#ニュージーランド', '#アジア']\n",
            "['#編集', '#出版', '#翻訳', '#紹介', '#執筆']\n",
            "['#副業', '#看護師', '#無職', '#会社員', '#病院', '#休職', '#薬剤師', '#弁護士', '#職場', '#公務員', '#指導者', '#外国人', '#休校']\n",
            "['#お笑い', '#アイドル', '#芸人', '#ギャグ', '#お笑い芸人', '#落語', '#コント', '#ネタ', '#漫才', '#プロレス', '#笑い', '#役者']\n",
            "['#モチベーション', '#努力', '#自信', '#エネルギー', '#多様性', '#希望', '#勇気', '#資格', '#リーダーシップ', '#スキル', '#集中力', '#価値', '#才能', '#信頼', '#生産性', '#結果', '#評価']\n",
            "['#アーティスト', '#ミュージシャン']\n",
            "['#写真', '#動画', '#カメラ', '#撮影', '#モノクロ', '#アナログ', '#映像', '#デジタル', '#画像']\n",
            "['#生き方', '#人間関係', '#考え方', '#思考', '#価値観', '#行動', '#自由', '#記憶', '#心理', '#性格', '#意識', '#個性', '#思想', '#共感', '#本質', '#イメージ', '#精神', '#現実', '#感覚', '#理想', '#姿勢', '#常識', '#無意識']\n",
            "['#仕事', '#勉強', '#生活', '#暮らし', '#一人暮らし', '#バイト', '#アルバイト', '#引っ越し', '#独学', '#創作活動', '#音楽活動', '#同棲']\n",
            "['#人生', '#夢', '#心', '#愛', '#生きる', '#恋', '#孤独', '#幸福', '#日々', '#運命']\n",
            "['#エッセイ', '#詩', '#読書', '#短編小説', '#創作', '#短歌', '#絵本', '#俳句', '#書評', '#旅行記', '#散文', '#随筆', '#朗読', '#長編小説', '#風俗', '#スケッチ', '#詩人', '#童話']\n",
            "['#心理学', '#哲学', '#歴史', '#未来', '#数学', '#過去', '#世界', '#科学', '#世界史', '#空想', '#実験', '#古典', '#物理']\n",
            "['#本', '#オンライン', '#レビュー', '#広告', '#無料', '#アプリ', '#電子書籍', '#メディア', '#コンテンツ', '#ブランド', '#パソコン', '#マガジン', '#雑誌', '#書籍', '#書店', '#カレンダー', '#Web', '#新聞']\n",
            "['#ニューヨーク', '#パリ', '#ロンドン']\n",
            "['#猫', '#ねこ', '#ネコ', '#マスク', '#ペット', '#赤ちゃん', '#かわいい', '#ポケモン', '#うさぎ', '#着物', '#メイク', '#可愛い', '#服', '#色', '#Tシャツ', '#コスプレ', '#ロボット', '#おじさん', '#青', '#ワンピース', '#妖怪', '#アクセサリー', '#宇宙人']\n",
            "['#宇宙', '#地球', '#星']\n",
            "['#選挙']\n",
            "['#成功', '#失敗']\n",
            "['#命']\n",
            "['#投資', '#株', '#不動産', '#為替', '#金融', '#転売', '#相場', '#投資家', '#資金調達', '#資産', '#保険']\n",
            "['#ダイエット', '#ギャンブル', '#海外旅行', '#散歩', '#挑戦', '#初心者', '#ランニング', '#チャレンジ', '#世界一周', '#自転車', '#休日', '#節約', '#稼ぐ', '#登山', '#リラックス', '#ストレッチ', '#アウトドア', '#選択', '#サーフィン', '#ウォーキング', '#バイク', '#釣り', '#飛行機', '#ボート', '#ドライブ', '#ジョギング']\n",
            "['#電車', '#車']\n",
            "['#コミュニケーション', '#継続', '#目標', '#コミュニティ', '#農業', '#医療', '#人事', '#環境', '#組織', '#福祉', '#人材育成', '#イノベーション', '#戦略', '#将来', '#パートナーシップ', '#環境問題', '#法律', '#目的', '#自立', '#問題解決', '#支援', '#国際協力', '#災害', '#人材', '#技術']\n",
            "['#営業', '#開業']\n",
            "['#ニュース', '#情報', '#知識']\n",
            "['#大学生', '#高校生', '#社会人', '#学生', '#小学生', '#受験', '#夏休み', '#中学生', '#部活', '#受験生', '#大学院生']\n",
            "['#英語', '#日本語', '#中国語', '#韓国語', '#スペイン語', '#フランス語']\n",
            "['#音楽', '#演劇', '#文学', '#芸術', '#建築', '#美術', '#絵画', '#文化', '#美術館', '#文芸', '#洋画']\n",
            "['#日常', '#自然', '#瞑想', '#癒し', '#運動', '#日常生活', '#ことば', '#仏教', '#宗教', '#祈り', '#戦争', '#平和', '#対話', '#キリスト教', '#聖書', '#体験', '#奇跡', '#禅']\n",
            "['#ギター', '#ピアノ', '#バンド', '#弾き語り', '#オリジナル曲', '#ダンス', '#ジャズ', '#ドラム', '#楽器', '#演奏']\n",
            "['#考察', '#研究', '#表現', '#考える', '#分析', '#解説', '#発見']\n",
            "['#夏', '#秋', '#春', '#冬', '#季節']\n",
            "['#連載']\n",
            "['#イベント', '#ワークショップ', '#セミナー', '#サークル', '#塾', '#講座', '#展覧会', '#勉強会']\n",
            "['#フランス', '#イタリア', '#ドイツ', '#イギリス', '#ヨーロッパ', '#スペイン', '#ロシア', '#北欧', '#フィンランド', '#オランダ', '#デンマーク']\n",
            "['#東京', '#京都', '#北海道', '#大阪', '#福岡', '#名古屋', '#札幌', '#広島', '#新潟', '#横浜', '#神戸', '#昭和', '#長崎', '#仙台', '#熊本', '#平成', '#鹿児島', '#岡山']\n",
            "['#卒業']\n",
            "['#地域', '#地方']\n",
            "['#光', '#太陽', '#魂', '#天使', '#神', '#魔法']\n",
            "['#ライフスタイル', '#ファッション', '#趣味', '#サラリーマン', '#女性', '#セックス', '#主婦', '#女子大生', '#オタク', '#カップル', '#20代', '#人', '#田舎', '#OL', '#40代', '#ゲイ', '#30代', '#男女', '#独身', '#女子高生', '#男性', '#思春期']\n",
            "['#幸せ', '#思い出', '#好き', '#楽しい', '#笑顔', '#遊び', '#感動', '#元気', '#面白い', '#不思議', '#楽しむ', '#楽しみ']\n",
            "['#予想']\n",
            "['#犬', '#動物', '#人間', '#植物', '#鳥', '#魚']\n",
            "['#JRA', '#競馬場', '#G1', '#馬', '#重賞']\n",
            "['#歌詞', '#作曲', '#歌', '#作詞', '#詞']\n",
            "['#ドル']\n",
            "['#グルメ', '#カフェ', '#コーヒー', '#ラーメン', '#カレー', '#ランチ', '#飲食店', '#お酒', '#ビール', '#ごはん', '#スイーツ', '#手作り', '#お菓子', '#ご飯', '#フード', '#美味しい', '#パン', '#買い物', '#ホテル', '#掃除', '#喫茶店', '#居酒屋', '#レストラン', '#コンビニ', '#朝食', '#カラオケ', '#チョコレート', '#本屋', '#サウナ', '#ケーキ', '#バー', '#アイス', '#靴', '#動物園', '#ハーブ', '#紅茶', '#スパイス', '#寿司', '#お茶', '#和食', '#映画館', '#トイレ', '#バラ', '#外食', '#うどん', '#焼肉', '#水族館']\n",
            "['#トレーニング', '#練習', '#レッスン']\n",
            "['#起業', '#転職', '#経営', '#経営者', '#会社', '#独立', '#働く', '#退職', '#就職', '#社長', '#開発']\n",
            "['#1']\n",
            "['#更新']\n",
            "['#運用']\n",
            "['#きっかけ']\n",
            "['#お金', '#貯金', '#借金', '#税金', '#収入']\n",
            "['#時間']\n",
            "['#自己紹介', '#ラジオ', '#感謝', '#ありがとう', '#毎日', '#誕生日', '#クリスマス', '#朝', '#ママ', '#夜', '#おはよう', '#プレゼント', '#応援', '#結婚式', '#神様', '#クイズ', '#挨拶', '#パパ', '#キャッチコピー']\n",
            "['#コラム', '#ブログ', '#SNS', '#Twitter', '#インタビュー', '#ツイッター', '#プロフィール', '#インターネット', '#レポート', '#告知', '#ネット', '#ランキング']\n",
            "['#死', '#自殺']\n",
            "['#移住']\n",
            "['#キャリア']\n",
            "['#配信']\n",
            "['#学び']\n",
            "['#気持ち', '#想い', '#思い', '#願い']\n",
            "['#成長', '#変化']\n",
            "['#毎日note', '#毎日更新', '#note', '#いま私にできること', '#毎日投稿', '#スキしてみて', '#新型コロナウイルス', '#競艇予想屋', '#おうち時間を工夫で楽しく', '#音声配信', '#note毎日更新', '#youtube', '#習慣にしていること', '#地方競馬予想', '#読書感想文', '#私の仕事', '#ショートショート', '#競輪予想', '#ひとりごと', '#自己啓発', '#私のイチオシ', '#海外生活', '#とは', '#筋トレ', '#中央競馬予想', '#ボートレース予想', '#万舟', '#働き方', '#ゆたかさって何だろう', '#note初心者', '#英語学習', '#現代詩', '#コロナ', '#推薦図書', '#映画レビュー', '#コンテンツ会議', '#HSP', '#COMEMO', '#photo', '#発達障害', '#写真好きな人と繋がりたい', '#自分と向き合う', '#コミックエッセイ', '#自由詩', '#映画感想', '#おうち時間', '#note書き初め', '#リモートワーク', '#自己肯定感', '#アウトプット', '#noteのつづけ方', '#ネットビジネス', '#noteでよかったこと', '#絵日記', '#カメラのたのしみ方', '#illustration', '#初投稿', '#婚活', '#つくるのはたのしい', '#勝負レース', '#大井競馬予想', '#競馬女子', '#はたらくを自由に', '#競馬予想中', '#仮想通貨', '#写真日記', '#川崎競馬', '#東京競馬予想', '#渋谷のラジオ', '#大学生ブログ', '#株式投資', '#ビジネススキル', '#買ってよかったもの', '#育児日記', '#読書日記', '#おすすめ本', '#1000日チャレンジ', '#朝活', '#今日のつぶやき', '#競馬はロマン', '#エッセイ漫画', '#Vtuber', '#人生を変えた出会い', '#イベントレポ', '#youtube動画', '#万馬券予想', '#西野亮廣エンタメ研究所', '#備忘録', '#人生哲学', '#テレワーク', '#園田競馬', '#鬱', '#掌編小説', '#noteの書き方', '#アラサー', '#在宅ワーク', '#ライフハック', '#ミッドナイト競輪', '#コロナに負けるな', '#読書記録', '#これからの仕事術', '#船橋競馬', '#cakesコンテスト', '#田舎暮らし', '#マインドフルネス', '#阪神競馬予想', '#舟券', '#競馬ファイナンス', '#メンタルヘルス', '#挑戦している君へ', '#タロット', '#仕事術', '#競馬好き', '#競馬初心者', '#Instagram', '#川崎競馬予想', '#競馬好きな人と繋がりたい', '#あなたに出会えてよかった', '#働き方改革', '#競馬投資', '#オンラインサロン', '#超短編小説', '#おうちごはん', '#404美術館', '#自己分析', '#LGBT', '#夢日記', '#浦和競馬', '#競馬新聞', '#考えたこと', '#潜在意識', '#毎日更新倶楽部', '#リモートオフィス', '#高知競馬', '#自分らしさ', '#MUP', '#ZOOM', '#万馬券', '#note映画部', '#競馬ファン', '#京都競馬予想', '#競馬ブログ', '#コロナウイルス', '#競馬大好き', '#双極性障害', '#中山競馬予想', '#断捨離', '#理学療法士', '#お弁当', '#外出自粛', '#ダイエット日記', '#お金について考える', '#旅日記', '#園田競馬予想', '#激アツレース', '#花写真', '#自炊', '#パパの子育て', '#クラウドファンディング', '#勉強法', '#競艇投資', '#Webデザイン', '#オリジナル小説', '#子育て日記', '#西洋占星術', '#猫写真', '#MUPウサギクラス', '#イラストエッセイ', '#大学生日記', '#恋愛コラム', '#はじめまして', '#SDGs', '#youtuber', '#4コママンガ', '#好きなことを仕事にする', '#やりたいこと', '#nikkei', '#FXトレード', '#iphone', '#現代アート', '#ワーママ', '#海外留学', '#ボート予想', '#在宅勤務', '#引き寄せ', '#ミニマリスト', '#プログラミング初心者', '#マインドセット', '#生きづらさ', '#勝負馬券', '#ビットコイン', '#舟券予想', '#書くこと', '#新潟競馬予想', '#個人事業主', '#自由律俳句', '#新型コロナウイルス対策', '#バックパッカー', '#呟き', '#海外移住', '#考察コラム', '#習慣化', '#コミックエッセイ大賞', '#詩のようなもの', '#言葉の力', '#noteはじめました', '#現代短歌', '#毒親', '#応援したいスポーツ', '#自分の人生', '#鬼滅の刃', '#SNSマーケティング', '#cakesコンテスト2020', '#転職活動', '#フィルムカメラ', '#住之江競艇', '#予想屋', '#Nikon', '#就活生', '#船橋競馬予想', '#ギャンブル予想', '#簡単レシピ', '#アラフォー', '#読書の秋2020', '#競艇確率', '#一度は行きたいあの場所', '#副業収入', '#python', '#読書メモ', '#自己成長', '#stayhome', '#netflix', '#脳科学', '#みんなのフォトギャラリー', '#門別競馬', '#kindle', '#COVID19', '#福島競馬予想', '#厳選予想', '#知恵袋_', '#馬券予想', '#南関競馬', '#英語勉強', '#大村競艇', '#浦和競馬予想', '#アフターコロナ', '#今日は何の日', '#私の不思議体験', '#思ったこと', '#幸せになる方法', '#マッチングアプリ', '#noteおやつ部', '#ニュースで語る', '#no活', '#みんなでつくる秋アルバム', '#名古屋競馬', '#ワーホリ', '#音楽レビュー', '#オンライン授業', '#好きなこと', '#音楽制作', '#動画編集', '#地方競馬場予想', '#旅とわたし', '#フォローお願いします', '#YouTubeチャンネル', '#自分軸', '#DIY', '#ドル円', '#地方創生', '#女性起業家', '#TOEIC', '#コンサル', '#日常漫画', '#メルカリ', '#boatrace', '#公開ダイエット', '#健康管理', '#スキ', '#新社会人', '#万車', '#高知競馬予想', '#ネット副業', '#らくがき', '#webライター', '#穴馬', '#継続は力なり', '#ニート', '#飲食店経営', '#梅雨', '#ブログ更新', '#Webマーケティング', '#令和', '#旅する日本語', '#LINEスタンプ', '#適応障害', '#note俳句部', '#蒲郡競艇', '#アラサー女子', '#ファインダー越しの私の世界', '#四コマ漫画', '#ポケカ', '#夏のオススメ', '#ひとり旅', '#オリジナルイラスト', '#インスタ', '#ナンバーズ', '#パーソナルトレーナー', '#徳山競艇', '#note感想文', '#芦屋競艇', '#新生活に向けて', '#朝ごはん', '#保護猫', '#丸亀競艇', '#2019年', '#本好き', '#シンガーソングライター', '#穴予想', '#株投資', '#アラフィフ', '#１日１エッセイ', '#熟成下書き', '#犬のいる暮らし', '#まいにち日記部', '#今を生きる', '#徒然', '#風景写真', '#緊急事態宣言', '#お絵描き', '#万馬券当てたい', '#ハロウィン', '#私のお店', '#勝負馬券予想', '#中京競馬予想', '#家庭菜園', '#メンヘラ', '#思うこと', '#eスポーツ', '#アダルトチルドレン', '#apple', '#タロット占い', '#drawing', '#糖質制限', '#掌編', '#ロードバイク', '#大人の発達障害', '#ちゅうハヤ', '#夢を叶える', '#アナログ絵', '#東京競馬', '#tanka', '#相互フォロー', '#インプット', '#シングルマザー', '#MUPカレッジ', '#西野亮廣', '#下関競艇', '#podcast', '#統合失調症', '#思考法', '#ブロックチェーン', '#平成最後の夏', '#データ分析', '#女性の生き方', '#オラクルカード', '#ASD', '#新規事業', '#創作漫画', '#雑感', '#妊活', '#心の声', '#不動産投資', '#恋愛相談', '#M5', '#パニック障害', '#メインレース', '#若松競艇', '#雑文', '#ワークライフバランス', '#今日の占い', '#毎日更新がんばる', '#万舟券', '#脱サラ', '#京都競馬', '#インスタグラム', '#我が家のペット自慢', '#マンガ感想文', '#門別競馬予想', '#8月31日の夜に', '#自分らしく生きる', '#FX初心者', '#育休', '#フィルム写真', '#夫婦関係', '#恋愛テクニック', '#カードリーディング', '#札幌競馬予想', '#君のことばに救われた', '#ブラック企業', '#オープン社内報', '#不妊治療', '#函館競馬予想', '#あつまれどうぶつの森', '#english', '#国際結婚', '#2020年代の未来予想図', '#言語化', '#HSP気質', '#オリジナルアクセサリー', '#また乾杯しよう', '#アニメ感想', '#散文詩', '#笠松競馬', '#保育士', '#青年海外協力隊', '#最終レース', '#空写真', '#新型コロナウィルス', '#ナイターレース', '#三連単', '#複業', '#成功法則', '#海外旅行記', '#自己実現', '#目標設定', '#note弁当部', '#Photography', '#バンコク', '#自閉症スペクトラム', '#晩御飯', '#キャリアコンサルタント', '#目標達成', '#競艇好きとつながりたい', '#note初投稿', '#Spotify', '#悩み相談', '#一次創作', '#せどり', '#４コマ', '#22卒', '#米国株', '#中山競馬', '#食レポ', '#引き寄せの法則', '#心理学をもっと身近に', '#noteクリエイター', '#阪神競馬', '#カイロプラクティック', '#アドラー心理学', '#副業の教科書', '#イベントレポート', '#桐生競艇', '#テクニカル分析', '#小説家になろう', '#stay_at_home', '#ツインレイ', '#天然石', '#人間関係の悩み', '#お金を稼ぐ', '#名前の由来', '#やさしさにふれて', '#読書感想', '#フェミニズム', '#SEO', '#note短歌部', '#星読み', '#ヨガインストラクター', '#テイクアウト', '#竹花貴騎', '#ワーキングホリデー', '#行動力', '#時間の使い方', '#給付金をきっかけに', '#3連単', '#メンタルトレーニング', '#私のパートナー', '#逆噴射プラクティス', '#キナリ杯', '#HSS型HSP', '#物販ビジネス', '#好きなもの', '#名古屋競馬予想', '#flower', '#新宿租界', '#モテる方法', '#自粛生活', '#文章を書く', '#セルフケア', '#日経新聞', '#チャネリング', '#あの夏に乾杯', '#大人になったものだ', '#うつ状態', '#ゲーム実況', '#最終レース予想', '#思考の整理', '#唐津競艇', '#Illustrator', '#メンズファッション', '#紫陽花', '#公営ギャンブル', '#クラフトビール', '#４コマ漫画', '#読書好きな人と繋がりたい', '#星占い', '#こんな学校あったらいいな', '#今日のメッセージ', '#社会人1年目の私へ', '#ジェイソン先生', '#バーチャルYouTuber', '#製作日記', '#三国競艇', '#パーソナルトレーニング', '#コピック', '#ハンドメイドアクセサリー', '#人生論', '#宇宙の法則', '#エッセイマンガ', '#作業療法士', '#新しい働き方', '#令和元年にやりたいこと', '#withコロナ', '#新潟競馬', '#自分探し', '#21卒', '#言霊', '#facebook', '#宝くじ', '#怖い話', '#ポケモンカード', '#営業マン', '#ひきこもり', '#KPOP', '#jazz', '#100日チャレンジ', '#管理栄養士', '#機械学習', '#オリジナルキャラクター', '#メインレース予想', '#パワーストーン', '#パワハラ', '#有料note', '#無料予想', '#小倉競馬予想', '#Voicy', '#連続投稿', '#チームビルディング', '#幼児教育', '#鉄板軸馬', '#Webサービス', '#おはようございます', '#南関東競馬', '#本紹介', '#あつ森', '#盛岡競馬', '#人生の生き方', '#摂食障害', '#デジタルマーケティング', '#アメリカ生活', '#ec', '#大学生活', '#自己投資', '#効率化', '#プログラミング学習', '#FUJIFILM', '#日経225先物デイトレード', '#旅エッセイ', '#ほぼ毎日note', '#diary', '#ミッドナイト競輪予想', '#超ショートショート', '#fashion', '#免疫力', '#ナンバーズ４', '#ポケカ記事', '#今私にできること', '#UIデザイン', '#MUPアウトプット', '#日経COMEMO', '#一日一絵', '#ステイホーム', '#スタバ', '#コロナ禍', '#毎日日記', '#無料ボートレース予想', '#体験記', '#cat', '#新卒採用', '#ファスティング', '#ＪＲＡ', '#出会い系', '#FOLLOW', '#地方競馬最終', '#JRDB', '#再生核研究所', '#国内旅行', '#カフェ巡り', '#日本株', '#創作小説', '#ゲストハウス', '#BTC', '#アクセサリー通販', '#地方移住', '#部活の思い出', '#東京競馬場', '#UXデザイン', '#movie', '#猫がいる生活', '#鳴門競艇', '#インフルエンサー', '#旅コラム', '#ボディメイク', '#こんな社会だったらいいな', '#tororomuseum', '#死にたい', '#ユーロドル', '#ボートレース住之江', '#バイナリーオプション', '#豪ドル円', '#無料note', '#お散歩', '#各場の最終12レース予想', '#感謝の気持ち', '#交換日記', '#シェアハウス', '#アセンション', '#ストレス解消', '#自分語り', '#南関競馬予想', '#デザイン思考', '#四コマ', '#雨の日', '#育児マンガ', '#自己表現', '#私小説', '#箕輪編集室', '#SaaS', '#恋愛エッセイ', '#直前予想', '#資産形成', '#keiba', '#佐賀競馬', '#暗号通貨', '#豊かさ', '#キャッシュレス', '#何気ない日常', '#好きな日本文化', '#青山裕企', '#GoToキャンペーン', '#毒親育ち', '#語学留学', '#WEB漫画', '#花言葉', '#映画評', '#デイトレード', '#スキルアップ', '#ハンドメイド作家', '#ホロスコープ', '#ほぼ日', '#蒲郡競艇予想', '#140字小説', '#アトピー', '#ネタバレ', '#働くママ', '#ブログ初心者', '#お風呂', '#MTG', '#柴犬', '#eSports', '#シェア大歓迎', '#スポーツビジネス', '#高配当', '#ねこ写真', '#日々のこと', '#note応援部', '#金沢競馬', '#村上春樹', '#ルーティン', '#オートレース予想', '#読書レビュー', '#タロットカード', '#副収入', '#カンボジア', '#夏の思い出', '#HipHop', '#読書会', '#堀江貴文', '#大人の学び', '#WEBデザイナー', '#宮島競艇', '#世界旅行', '#フリー句', '#金融市場', '#初めてのnote', '#鬱病', '#外国為替証拠金取引', '#日曜作曲', '#自分らしい生き方', '#就活体験記', '#恋活', '#内観', '#新月', '#はじめてのnote', '#推し', '#お店', '#Vlog', '#ミスiD', '#デジタルイラスト', '#承認欲求', '#自分磨き', '#メルマガ', '#自己理解', '#親子関係', '#あの恋', '#拡散希望', '#大人のADHD', '#超短編', '#トランスジェンダー', '#日本語教師', '#トレード手法', '#VOCALOID', '#読んだ本', '#休日の過ごし方', '#オンラインイベント', '#駆け出しエンジニア', '#ブログ運営', '#オンライン英会話', '#リノベーション', '#自由律', '#コミュニケーションスキル', '#ナンバーズ３', '#暗号資産', '#ITエンジニア', '#Photoshop', '#100文字ドラマ', '#ボートレース大村', '#生と死', '#アスペルガー', '#競艇女子', '#デトックス', '#noteコーヒー部', '#餃子', '#プロテイン', '#母の日', '#抽象画', '#東京オリンピック', '#投資信託', '#AIKA競馬の予想', '#シンプルライフ', '#ロックダウン', '#カメラ好きな人と繋がりたい', '#Unity', '#遠距離恋愛', '#yoga', '#無料競馬予想', '#新型コロナ', '#コピーライティング', '#丁寧な暮らし', '#ニンジャスレイヤー', '#Twitter運用', '#将来の夢', '#サブスク', '#アマゾン', '#1日1note', '#JavaScript', '#為替市場', '#オンラインレッスン', '#競馬っていいよね', '#肩こり', '#国際恋愛', '#followme', '#日経２２５', '#駄文', '#IoT', '#stay_home', '#SNS活用', '#連載長編小説', '#小さな幸せ', '#パラレルキャリア', '#ECサイト', '#鈴鹿サーキット', '#闘病記', '#Bリーグ', '#日経平均', '#お菓子作り', '#外国為替', '#乃木坂46', '#繊細さん', '#バイナリー', '#乳がん', '#Photograph', '#スイングトレード', '#私の勝負曲', '#短文', '#アプリ開発', '#副業note', '#お絵かき', '#NJSLYR', '#痩せる', '#アメブロを見て', '#ビジネス英語', '#セフレ', '#ダイエット記録', '#メンタリストDaigo', '#手料理', '#フリーランス日記', '#男性育休', '#今日の一言', '#アメリカ留学', '#プログラミング教育', '#お家時間', '#不安障害', '#お金の話', '#セカンダリー', '#暇つぶし', '#FXトレーダー', '#仕事論', '#筆文字', '#tiktok', '#心と身体', '#料理好きな人と繋がりたい', '#アンチエイジング', '#中京競馬', '#疲れた', '#ポジティブ思考', '#ボカロ', '#中小企業診断士', '#育児漫画', '#花粉症', '#大村競艇予想', '#機能不全家族', '#ボートレース芦屋', '#笠松競馬予想', '#自分を知る', '#パワースポット', '#波動', '#自己紹介をゲームで語る', '#suzukacircuit', '#英語の勉強', '#よろしくお願いします', '#ライブレポ', '#トレード日誌', '#インプットとアウトプット', '#考え事', '#オンライン飲み会', '#illust', '#ボートレース徳山', '#歯医者', '#アラサーOL', '#箕輪厚介', '#気づきの瞑想', '#感想文', '#推奨馬', '#無印良品', '#子どもとの関わり', '#不労所得', '#介護福祉士', '#ノマド', '#歌ってみた', '#馬券勝負', '#抑うつ', '#星野源', '#ラノベ', '#美肌', '#投資法', '#ゼロ除算']\n",
            "['#シンプル', '#簡単']\n",
            "['#経験']\n",
            "['#悩み', '#自分', '#気づき', '#出会い', '#振り返り', '#失恋', '#会話', '#先生', '#妄想', '#デート', '#やる気', '#仲間', '#愚痴', '#彼氏', '#上司', '#後悔', '#優しさ', '#トラウマ', '#別れ', '#気付き', '#片思い', '#浮気', '#前向き', '#辛い', '#声', '#本音', '#伝える', '#嘘', '#お母さん', '#涙', '#居場所', '#私', '#思い込み', '#書く', '#生きること', '#今', '#決断', '#素直', '#思いやり', '#大丈夫']\n",
            "['#経済', '#社会', '#政治']\n",
            "['#イラスト', '#映画', '#漫画', '#ゲーム', '#アニメ', '#ドラマ', '#キャラクター', '#声優', '#作品', '#脚本', '#BGM', '#シナリオ', '#ストーリー']\n",
            "['#スポーツ', '#競輪', '#Jリーグ', '#マラソン', '#キャンプ', '#ラグビー', '#アスリート', '#陸上競技', '#コーチ', '#ジム', '#バスケ', '#高校野球', '#バスケットボール', '#オリンピック', '#ゴルフ', '#チーム', '#テニス', '#フットサル', '#女子', '#ナイター']\n",
            "['#論文']\n",
            "['#教育', '#学校', '#大学', '#学校教育', '#学習', '#教師', '#語学', '#教員', '#図書館', '#授業', '#研修', '#国語', '#教養']\n",
            "['#文字', '#漢字', '#ロゴ', '#名前']\n",
            "['#考え']\n"
          ],
          "name": "stdout"
        }
      ]
    },
    {
      "cell_type": "code",
      "metadata": {
        "colab": {
          "base_uri": "https://localhost:8080/"
        },
        "id": "TSeoGj1bJVxQ",
        "outputId": "4ff8cfe1-91ef-4ee4-d8b3-152fa74aa70a"
      },
      "source": [
        "!pip install flask-ngrok\n",
        "!pip install flask-cors"
      ],
      "execution_count": null,
      "outputs": [
        {
          "output_type": "stream",
          "text": [
            "Collecting flask-ngrok\n",
            "  Downloading https://files.pythonhosted.org/packages/af/6c/f54cb686ad1129e27d125d182f90f52b32f284e6c8df58c1bae54fa1adbc/flask_ngrok-0.0.25-py3-none-any.whl\n",
            "Requirement already satisfied: requests in /usr/local/lib/python3.6/dist-packages (from flask-ngrok) (2.23.0)\n",
            "Requirement already satisfied: Flask>=0.8 in /usr/local/lib/python3.6/dist-packages (from flask-ngrok) (1.1.2)\n",
            "Requirement already satisfied: urllib3!=1.25.0,!=1.25.1,<1.26,>=1.21.1 in /usr/local/lib/python3.6/dist-packages (from requests->flask-ngrok) (1.24.3)\n",
            "Requirement already satisfied: certifi>=2017.4.17 in /usr/local/lib/python3.6/dist-packages (from requests->flask-ngrok) (2020.12.5)\n",
            "Requirement already satisfied: idna<3,>=2.5 in /usr/local/lib/python3.6/dist-packages (from requests->flask-ngrok) (2.10)\n",
            "Requirement already satisfied: chardet<4,>=3.0.2 in /usr/local/lib/python3.6/dist-packages (from requests->flask-ngrok) (3.0.4)\n",
            "Requirement already satisfied: click>=5.1 in /usr/local/lib/python3.6/dist-packages (from Flask>=0.8->flask-ngrok) (7.1.2)\n",
            "Requirement already satisfied: Jinja2>=2.10.1 in /usr/local/lib/python3.6/dist-packages (from Flask>=0.8->flask-ngrok) (2.11.2)\n",
            "Requirement already satisfied: Werkzeug>=0.15 in /usr/local/lib/python3.6/dist-packages (from Flask>=0.8->flask-ngrok) (1.0.1)\n",
            "Requirement already satisfied: itsdangerous>=0.24 in /usr/local/lib/python3.6/dist-packages (from Flask>=0.8->flask-ngrok) (1.1.0)\n",
            "Requirement already satisfied: MarkupSafe>=0.23 in /usr/local/lib/python3.6/dist-packages (from Jinja2>=2.10.1->Flask>=0.8->flask-ngrok) (1.1.1)\n",
            "Installing collected packages: flask-ngrok\n",
            "Successfully installed flask-ngrok-0.0.25\n",
            "Collecting flask-cors\n",
            "  Downloading https://files.pythonhosted.org/packages/db/84/901e700de86604b1c4ef4b57110d4e947c218b9997adf5d38fa7da493bce/Flask_Cors-3.0.10-py2.py3-none-any.whl\n",
            "Requirement already satisfied: Flask>=0.9 in /usr/local/lib/python3.6/dist-packages (from flask-cors) (1.1.2)\n",
            "Requirement already satisfied: Six in /usr/local/lib/python3.6/dist-packages (from flask-cors) (1.15.0)\n",
            "Requirement already satisfied: itsdangerous>=0.24 in /usr/local/lib/python3.6/dist-packages (from Flask>=0.9->flask-cors) (1.1.0)\n",
            "Requirement already satisfied: Jinja2>=2.10.1 in /usr/local/lib/python3.6/dist-packages (from Flask>=0.9->flask-cors) (2.11.2)\n",
            "Requirement already satisfied: click>=5.1 in /usr/local/lib/python3.6/dist-packages (from Flask>=0.9->flask-cors) (7.1.2)\n",
            "Requirement already satisfied: Werkzeug>=0.15 in /usr/local/lib/python3.6/dist-packages (from Flask>=0.9->flask-cors) (1.0.1)\n",
            "Requirement already satisfied: MarkupSafe>=0.23 in /usr/local/lib/python3.6/dist-packages (from Jinja2>=2.10.1->Flask>=0.9->flask-cors) (1.1.1)\n",
            "Installing collected packages: flask-cors\n",
            "Successfully installed flask-cors-3.0.10\n"
          ],
          "name": "stdout"
        }
      ]
    },
    {
      "cell_type": "code",
      "metadata": {
        "id": "WWEYPOqlA-Xp"
      },
      "source": [
        "!cp /content/drive/MyDrive/ProjectSystemDesign/flask_ngrok.py ../usr/local/lib/python3.6/dist-packages/"
      ],
      "execution_count": null,
      "outputs": []
    },
    {
      "cell_type": "code",
      "metadata": {
        "colab": {
          "base_uri": "https://localhost:8080/"
        },
        "id": "gehjV0_7J1d6",
        "outputId": "eabda101-fb93-4380-bbf6-23cdefbf6ac3"
      },
      "source": [
        "from flask import Flask, jsonify, request\n",
        "from flask_ngrok import run_with_ngrok\n",
        "from flask_cors import CORS\n",
        "import json\n",
        "\n",
        "app = Flask(__name__)\n",
        "CORS(app)\n",
        "run_with_ngrok(app)\n",
        "\n",
        "@app.route(\"/process\",methods=[\"POST\",\"GET\"])\n",
        "def process():\n",
        "  if request.method == \"POST\":\n",
        "    title = request.form[\"title\"]\n",
        "    content = request.form[\"content\"]\n",
        "    x_vec = doc2vector(title,content)\n",
        "    pred, prob = single_predict(gauss_model,x_vec)\n",
        "    response = {\"tags\" : [tags[i] for i in pred]}      \n",
        "    return response\n",
        "\n",
        "if __name__ == \"__main__\":\n",
        "  app.run()"
      ],
      "execution_count": null,
      "outputs": [
        {
          "output_type": "stream",
          "text": [
            " * Serving Flask app \"__main__\" (lazy loading)\n",
            " * Environment: production\n",
            "\u001b[31m   WARNING: This is a development server. Do not use it in a production deployment.\u001b[0m\n",
            "\u001b[2m   Use a production WSGI server instead.\u001b[0m\n",
            " * Debug mode: off\n"
          ],
          "name": "stdout"
        },
        {
          "output_type": "stream",
          "text": [
            " * Running on http://127.0.0.1:5000/ (Press CTRL+C to quit)\n"
          ],
          "name": "stderr"
        },
        {
          "output_type": "stream",
          "text": [
            "this is a test  https://96e555cb29ec.ngrok.io\n",
            " * Running on http://96e555cb29ec.ngrok.io\n",
            " * Traffic stats available on http://127.0.0.1:4040\n"
          ],
          "name": "stdout"
        }
      ]
    },
    {
      "cell_type": "code",
      "metadata": {
        "colab": {
          "base_uri": "https://localhost:8080/"
        },
        "id": "f-bMkHafKGpr",
        "outputId": "b6cc2055-e6ca-47e9-9bb8-1d7cf44ae367"
      },
      "source": [
        "!ps aux"
      ],
      "execution_count": null,
      "outputs": [
        {
          "output_type": "stream",
          "text": [
            "USER         PID %CPU %MEM    VSZ   RSS TTY      STAT START   TIME COMMAND\n",
            "root           1  0.1  0.3 312840 53248 ?        Ssl  13:11   0:02 /tools/node/b\n",
            "root          15  0.0  0.0  35896  4804 ?        Ss   13:11   0:00 tail -n +0 -F\n",
            "root          50  0.1  0.4 195180 60548 ?        Sl   13:11   0:02 /usr/bin/pyth\n",
            "root          57  1.7 11.0 2243280 1469752 ?     Ssl  13:25   0:25 /usr/bin/pyth\n",
            "root          91  0.0  0.0  18384  1492 ?        S    13:25   0:00 /bin/bash --n\n",
            "root          92  0.0  0.1 2157924 19676 ?       Sl   13:25   0:00 /opt/google/d\n",
            "root          93  0.0  0.0  11608  2148 ?        S    13:25   0:00 grep --color=\n",
            "root         176  0.0  0.0      0     0 ?        Z    13:25   0:00 [fusermount] \n",
            "root         203  0.5  0.5 2438720 74036 ?       Sl   13:25   0:08 /opt/google/d\n",
            "root         254  0.0  0.0  18384  2952 ?        S    13:25   0:00 bash -c tail \n",
            "root         255  0.0  0.0   4576   844 ?        S    13:25   0:00 tail -n +0 -F\n",
            "root         256  0.0  0.0  29216  9348 ?        S    13:25   0:00 python3 /opt/\n",
            "root        1840  0.3  0.0      0     0 ?        Z    13:30   0:04 [ngrok] <defu\n",
            "root        1906  0.0  0.0  59044  6316 ?        R    13:49   0:00 ps aux\n"
          ],
          "name": "stdout"
        }
      ]
    }
  ]
}