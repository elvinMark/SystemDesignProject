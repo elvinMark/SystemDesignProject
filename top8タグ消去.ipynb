{
 "cells": [
  {
   "cell_type": "code",
   "execution_count": 1,
   "metadata": {},
   "outputs": [],
   "source": [
    "import pandas as pd\n",
    "import numpy as np\n",
    "import ast"
   ]
  },
  {
   "cell_type": "code",
   "execution_count": 2,
   "metadata": {},
   "outputs": [],
   "source": [
    "df1 = pd.read_csv(\"./data/sample_doc_vec_labels.csv\")\n",
    "df1['tags'] = [ast.literal_eval(d) for d in df1['tags']]\n",
    "df1['labels'] = [ast.literal_eval(d) for d in df1['labels']]\n",
    "df2 = pd.read_csv(\"./data/2000tags_gmm250.csv\")"
   ]
  },
  {
   "cell_type": "code",
   "execution_count": 3,
   "metadata": {},
   "outputs": [],
   "source": [
    "top8_tag_num = []\n",
    "top8_tag_cluster = []\n",
    "top8_tag_cluster_label = []\n",
    "\n",
    "for i in range(8):\n",
    "    top8_tag_num.append(df2.loc[i]['クラスタ番号'])\n",
    "    \n",
    "for i in range(2000):\n",
    "    if df2.loc[i]['クラスタ番号'] in top8_tag_num:\n",
    "        top8_tag_cluster.append(df2.loc[i]['タグ'])\n",
    "        top8_tag_cluster_label.append(i)"
   ]
  },
  {
   "cell_type": "code",
   "execution_count": 4,
   "metadata": {},
   "outputs": [],
   "source": [
    "for i in range(len(df1)):\n",
    "    df1.loc[i]['tags'] = [tag for tag in df1.loc[i]['tags'] if tag not in top8_tag_cluster]\n",
    "    df1.loc[i]['labels'] = [label for label in df1.loc[i]['labels'] if label not in top8_tag_cluster_label]"
   ]
  },
  {
   "cell_type": "code",
   "execution_count": 5,
   "metadata": {},
   "outputs": [],
   "source": [
    "df3 = pd.DataFrame(columns = ['title', 'content', 'tags', 'doc_vec', 'labels'])\n",
    "\n",
    "j = 0\n",
    "for i in range(len(df1)):\n",
    "    if df1.loc[i]['tags'] != []:\n",
    "        df3.loc[j] = df1.loc[i]\n",
    "        j += 1"
   ]
  },
  {
   "cell_type": "code",
   "execution_count": 6,
   "metadata": {},
   "outputs": [],
   "source": [
    "df3.set_index('title').to_csv(\"./data/sample_seiri_top8.csv\")"
   ]
  },
  {
   "cell_type": "code",
   "execution_count": null,
   "metadata": {},
   "outputs": [],
   "source": []
  }
 ],
 "metadata": {
  "kernelspec": {
   "display_name": "Python 3",
   "language": "python",
   "name": "python3"
  },
  "language_info": {
   "codemirror_mode": {
    "name": "ipython",
    "version": 3
   },
   "file_extension": ".py",
   "mimetype": "text/x-python",
   "name": "python",
   "nbconvert_exporter": "python",
   "pygments_lexer": "ipython3",
   "version": "3.8.5"
  }
 },
 "nbformat": 4,
 "nbformat_minor": 4
}
