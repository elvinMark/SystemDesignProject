{
 "cells": [
  {
   "cell_type": "code",
   "execution_count": 1,
   "metadata": {},
   "outputs": [],
   "source": [
    "import pandas as pd\n",
    "import numpy as np\n",
    "from sklearn import preprocessing, mixture\n",
    "import matplotlib.pyplot as plt\n",
    "tags_word2vec = np.loadtxt(\"./data/tag_word2vec.dat\")\n",
    "tags_fasttext = np.loadtxt(\"./data/tags_vector.dat\")"
   ]
  },
  {
   "cell_type": "code",
   "execution_count": 2,
   "metadata": {},
   "outputs": [],
   "source": [
    "gm = mixture.GaussianMixture(n_components=250, covariance_type='full')"
   ]
  },
  {
   "cell_type": "code",
   "execution_count": 3,
   "metadata": {},
   "outputs": [],
   "source": [
    "z_gm = gm.fit(tags_word2vec)"
   ]
  },
  {
   "cell_type": "code",
   "execution_count": 4,
   "metadata": {},
   "outputs": [],
   "source": [
    "labels = z_gm.predict(tags_word2vec)"
   ]
  },
  {
   "cell_type": "code",
   "execution_count": 5,
   "metadata": {},
   "outputs": [
    {
     "data": {
      "text/plain": [
       "250"
      ]
     },
     "execution_count": 5,
     "metadata": {},
     "output_type": "execute_result"
    }
   ],
   "source": [
    "label_num = len(set(labels))\n",
    "label_num"
   ]
  },
  {
   "cell_type": "code",
   "execution_count": 6,
   "metadata": {},
   "outputs": [],
   "source": [
    "weights = np.zeros(250)\n",
    "for label in labels:\n",
    "    weights[label] += 1\n",
    "for i in range(250):\n",
    "    weights[i] /= 2000"
   ]
  },
  {
   "cell_type": "code",
   "execution_count": 7,
   "metadata": {},
   "outputs": [
    {
     "name": "stdout",
     "output_type": "stream",
     "text": [
      "1\n",
      "17\n",
      "164\n"
     ]
    }
   ],
   "source": [
    "overweight = []\n",
    "for i in range(len(weights)):\n",
    "    if weights[i] > 0.025: #要素が2000*0.025=50より多い\n",
    "        print(i)\n",
    "        overweight.append(i)"
   ]
  },
  {
   "cell_type": "code",
   "execution_count": 8,
   "metadata": {},
   "outputs": [],
   "source": [
    "def cos_similarity(a, b):\n",
    "    return np.dot(a, b) / (np.linalg.norm(a) * np.linalg.norm(b))\n",
    "\n",
    "zero = np.zeros(200)\n",
    "for i in range(2000):\n",
    "    if labels[i] in overweight:\n",
    "        tmp = 0\n",
    "        for j in range(2000):\n",
    "            if (np.array_equal(tags_word2vec[j], zero) == False\n",
    "                and labels[j] not in overweight \n",
    "                and cos_similarity(tags_fasttext[i], tags_fasttext[j]) > tmp):\n",
    "                tmp = cos_similarity(tags_fasttext[i], tags_fasttext[j])\n",
    "                labels[i] = labels[j]"
   ]
  },
  {
   "cell_type": "code",
   "execution_count": 9,
   "metadata": {},
   "outputs": [],
   "source": [
    "df = pd.read_csv(\"./data/2000tags.csv\")\n",
    "df2 = pd.DataFrame({\n",
    "    \"word2vec\": list(tags_word2vec),\n",
    "    \"fasttext\": list(tags_fasttext),\n",
    "    \"クラスタ番号\": list(labels)\n",
    "})\n",
    "df3 = pd.concat([df.loc[:,[\"タグ\",\"投稿数\"]],df2], axis=1)\n",
    "\n",
    "df3.set_index(\"タグ\").to_csv(\"./data/2000tags_gmm250.csv\")"
   ]
  },
  {
   "cell_type": "code",
   "execution_count": 10,
   "metadata": {},
   "outputs": [],
   "source": [
    "hashtags = [[] for i in range(label_num)]\n",
    "for j in range(2000):\n",
    "    hashtags[df3.loc[j][\"クラスタ番号\"]].append(df3.loc[j][\"タグ\"])"
   ]
  },
  {
   "cell_type": "code",
   "execution_count": 11,
   "metadata": {},
   "outputs": [],
   "source": [
    "df3 = pd.DataFrame({\n",
    "    \"クラスタ番号\": list(range(label_num)),\n",
    "    \"タグ\": hashtags\n",
    "})\n",
    "\n",
    "df3.set_index(\"クラスタ番号\").to_csv(\"./data/tags_per_cluster_gmm250.csv\")"
   ]
  },
  {
   "cell_type": "code",
   "execution_count": 12,
   "metadata": {},
   "outputs": [],
   "source": [
    "with open(\"./data/tags_per_cluster_gmm250.dat\",\"w\") as f:\n",
    "  for elem in hashtags:\n",
    "    f.write(str(elem) + \"\\n\")\n",
    "f.close()"
   ]
  },
  {
   "cell_type": "code",
   "execution_count": null,
   "metadata": {},
   "outputs": [],
   "source": []
  }
 ],
 "metadata": {
  "kernelspec": {
   "display_name": "Python 3",
   "language": "python",
   "name": "python3"
  },
  "language_info": {
   "codemirror_mode": {
    "name": "ipython",
    "version": 3
   },
   "file_extension": ".py",
   "mimetype": "text/x-python",
   "name": "python",
   "nbconvert_exporter": "python",
   "pygments_lexer": "ipython3",
   "version": "3.8.5"
  }
 },
 "nbformat": 4,
 "nbformat_minor": 4
}
